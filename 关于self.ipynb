{
 "cells": [
  {
   "cell_type": "code",
   "execution_count": 1,
   "metadata": {},
   "outputs": [
    {
     "name": "stdout",
     "output_type": "stream",
     "text": [
      "wanghao\n",
      "18\n",
      "********************\n",
      "2181781220128\n",
      "140715263812784\n",
      "********************\n",
      "wanghao\n",
      "18\n",
      "2181781220128\n",
      "140715263812784\n"
     ]
    }
   ],
   "source": [
    "class A():\n",
    "    name = 'wanghao'\n",
    "    age = 18\n",
    "    \n",
    "    # 注意say的写法，参数由一个self\n",
    "    def say(self):\n",
    "        self.name = 'aaa'\n",
    "        self.age = 200\n",
    "\n",
    "        \n",
    "# 此案例说明\n",
    "# 类实例的属性和比其他对象的实例的属性在不对对象的实例属性赋值的前提下\n",
    "# 指向同一个变量\n",
    "# 此时，A称为类实例       \n",
    "print(A.name)\n",
    "print(A.age)\n",
    "print('*' * 20)\n",
    "print(id(A.name))\n",
    "print(id(A.age))\n",
    "\n",
    "\n",
    "print('*' * 20)\n",
    "a = A()\n",
    "\n",
    "\n",
    "print(a.name)\n",
    "print(a.age)\n",
    "print(id(a.name))\n",
    "print(id(a.age))"
   ]
  },
  {
   "cell_type": "code",
   "execution_count": 3,
   "metadata": {},
   "outputs": [
    {
     "name": "stdout",
     "output_type": "stream",
     "text": [
      "{'__module__': '__main__', 'name': 'wanghao', 'age': 18, 'say': <function A.say at 0x000001FBFC4C1048>, '__dict__': <attribute '__dict__' of 'A' objects>, '__weakref__': <attribute '__weakref__' of 'A' objects>, '__doc__': None}\n",
      "{}\n",
      "{'name': 'yee', 'age': 13}\n",
      "yee\n",
      "13\n",
      "2181781219568\n",
      "140715263812624\n"
     ]
    }
   ],
   "source": [
    "a = A()\n",
    "# 查看A内所有的属性\n",
    "print(A.__dict__)\n",
    "print(a.__dict__)\n",
    "a.name = 'yee'\n",
    "a.age = 13\n",
    "\n",
    "print(a.__dict__)\n",
    "print(a.name)\n",
    "print(a.age)\n",
    "print(id(a.name))\n",
    "print(id(a.age))"
   ]
  },
  {
   "cell_type": "code",
   "execution_count": 6,
   "metadata": {},
   "outputs": [
    {
     "name": "stdout",
     "output_type": "stream",
     "text": [
      "my name is aaa\n",
      "my age is 200\n",
      "my name is aaa\n",
      "my age is 200\n"
     ]
    }
   ],
   "source": [
    "class Student():\n",
    "    name = 'wanghao'\n",
    "    age = 18\n",
    "    \n",
    "    # 注意say的写法，参数由一个self\n",
    "    def say(self):\n",
    "        self.name = 'aaa'\n",
    "        self.age = 200\n",
    "        print('my name is {0}'.format(self.name))\n",
    "        print('my age is {0}'.format(self.age))\n",
    "    def sayAgain(s):\n",
    "        print('my name is {0}'.format(s.name))\n",
    "        print('my age is {0}'.format(s.age))\n",
    "        \n",
    "        \n",
    "yueyue = Student()\n",
    "yueyue.say()\n",
    "yueyue.sayAgain()"
   ]
  },
  {
   "cell_type": "code",
   "execution_count": 13,
   "metadata": {},
   "outputs": [
    {
     "name": "stdout",
     "output_type": "stream",
     "text": [
      "name is ss\n",
      "age is 122\n",
      "w\n",
      "122\n",
      "he\n"
     ]
    }
   ],
   "source": [
    "class Teacher():\n",
    "    name = 'w'\n",
    "    age = 122\n",
    "    \n",
    "    def say(self):\n",
    "        self.name = 'ss'\n",
    "        self.age = 13\n",
    "        print('name is {0}'.format(self.name))\n",
    "        # 调用类的成员变量需要用__class__\n",
    "        print('age is {0}'.format(__class__.age))\n",
    "        \n",
    "    def sayAgain():\n",
    "        print(__class__.name)\n",
    "        print(__class__.age)\n",
    "        print('he')\n",
    "        \n",
    "t = Teacher()\n",
    "t.say()\n",
    "\n",
    "#下面是错误的方法\n",
    "#t.sayAgain()\n",
    "\n",
    "# 调用绑定类函数使用类名\n",
    "Teacher.sayAgain()"
   ]
  },
  {
   "cell_type": "code",
   "execution_count": 18,
   "metadata": {},
   "outputs": [
    {
     "name": "stdout",
     "output_type": "stream",
     "text": [
      "aaa\n",
      "12\n",
      "aaa\n",
      "12\n",
      "wh\n",
      "19\n",
      "bbb\n",
      "12\n"
     ]
    }
   ],
   "source": [
    "# 关于self案例\n",
    "class A():\n",
    "    name = 'wh'\n",
    "    age = 19\n",
    "    def __init__(self):\n",
    "        self.name = 'aaa'\n",
    "        self.age = 12\n",
    "        \n",
    "    def say(self):\n",
    "        print(self.name)\n",
    "        print(self.age)\n",
    "        \n",
    "        \n",
    "class B():\n",
    "    name = 'bbb'\n",
    "    age = 12\n",
    "    \n",
    "a = A()\n",
    "# 此时，系统会默认把a作为第一个参数传入函数\n",
    "a.say()\n",
    "\n",
    "\n",
    "# 此时，self被a代替\n",
    "A.say(a)\n",
    "\n",
    "# 同样可以把A作为参数传入\n",
    "A.say(A)\n",
    "\n",
    "\n",
    "# 此时，传入的是类实例B，因为B具有name和age属性，所以不会报错\n",
    "A.say(B)\n",
    "\n",
    "# 以上代码，利用了鸭子模型"
   ]
  },
  {
   "cell_type": "code",
   "execution_count": 21,
   "metadata": {},
   "outputs": [
    {
     "name": "stdout",
     "output_type": "stream",
     "text": [
      "wh\n"
     ]
    },
    {
     "ename": "AttributeError",
     "evalue": "'Person' object has no attribute '__age'",
     "output_type": "error",
     "traceback": [
      "\u001b[1;31m---------------------------------------------------------------------------\u001b[0m",
      "\u001b[1;31mAttributeError\u001b[0m                            Traceback (most recent call last)",
      "\u001b[1;32m<ipython-input-21-6718603a6443>\u001b[0m in \u001b[0;36m<module>\u001b[1;34m\u001b[0m\n\u001b[0;32m     12\u001b[0m \u001b[1;31m# age是私有变量\u001b[0m\u001b[1;33m\u001b[0m\u001b[1;33m\u001b[0m\u001b[1;33m\u001b[0m\u001b[0m\n\u001b[0;32m     13\u001b[0m \u001b[1;31m# 注意报错信息\u001b[0m\u001b[1;33m\u001b[0m\u001b[1;33m\u001b[0m\u001b[1;33m\u001b[0m\u001b[0m\n\u001b[1;32m---> 14\u001b[1;33m \u001b[0mprint\u001b[0m\u001b[1;33m(\u001b[0m\u001b[0mp\u001b[0m\u001b[1;33m.\u001b[0m\u001b[0m__age\u001b[0m\u001b[1;33m)\u001b[0m\u001b[1;33m\u001b[0m\u001b[1;33m\u001b[0m\u001b[0m\n\u001b[0m",
      "\u001b[1;31mAttributeError\u001b[0m: 'Person' object has no attribute '__age'"
     ]
    }
   ],
   "source": [
    "# 私有变量案例\n",
    "\n",
    "class Person():\n",
    "                # name是共有的成员\n",
    "                name = 'wh'\n",
    "                #__age就是私有成员\n",
    "                __age = 18\n",
    "                \n",
    "p = Person()\n",
    "# name 是共有变量\n",
    "print(p.name)\n",
    "# age是私有变量\n",
    "# 注意报错信息\n",
    "print(p.__age)\n",
    "\n"
   ]
  },
  {
   "cell_type": "code",
   "execution_count": 24,
   "metadata": {},
   "outputs": [
    {
     "name": "stdout",
     "output_type": "stream",
     "text": [
      "{'__module__': '__main__', 'name': 'wh', '_Person__age': 18, '__dict__': <attribute '__dict__' of 'Person' objects>, '__weakref__': <attribute '__weakref__' of 'Person' objects>, '__doc__': None}\n",
      "18\n"
     ]
    }
   ],
   "source": [
    "# name mangling技术\n",
    "print(Person.__dict__)\n",
    "p._Person__age = 18\n",
    "print(p._Person__age)"
   ]
  },
  {
   "cell_type": "code",
   "execution_count": null,
   "metadata": {},
   "outputs": [],
   "source": []
  }
 ],
 "metadata": {
  "kernelspec": {
   "display_name": "Python 3",
   "language": "python",
   "name": "python3"
  },
  "language_info": {
   "codemirror_mode": {
    "name": "ipython",
    "version": 3
   },
   "file_extension": ".py",
   "mimetype": "text/x-python",
   "name": "python",
   "nbconvert_exporter": "python",
   "pygments_lexer": "ipython3",
   "version": "3.7.3"
  }
 },
 "nbformat": 4,
 "nbformat_minor": 2
}
