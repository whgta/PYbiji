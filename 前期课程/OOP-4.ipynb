{
 "cells": [
  {
   "cell_type": "code",
   "execution_count": 2,
   "metadata": {},
   "outputs": [
    {
     "name": "stdout",
     "output_type": "stream",
     "text": [
      "hai my name is WH\n",
      "hai my name is HAPPY\n"
     ]
    }
   ],
   "source": [
    "# 属性案例\n",
    "# 创建Student类，描述学生类\n",
    "# 学生具有Student。name属性\n",
    "# 但name格式并不统一\n",
    "# 可以用增加一个函数，然后自动调用的方式，但很蠢\n",
    "class Student():\n",
    "    def __init__(self,name,age):\n",
    "        self.name = name \n",
    "        self.age  = age\n",
    "        # 如果不想修改代码\n",
    "        self.setName(name)\n",
    "     \n",
    "    # 介绍下自己\n",
    "    def intro(self):\n",
    "        print(\"hai my name is {0}\".format(self.name))\n",
    "        \n",
    "    def setName(self,name):\n",
    "        self.name = name.upper()# 将所有名字大写\n",
    "        \n",
    "        \n",
    "s1 = Student(\"wh\",18.8)\n",
    "s2 = Student(\"happy\",24)\n",
    "s1.intro()\n",
    "s2.intro()"
   ]
  },
  {
   "cell_type": "code",
   "execution_count": 7,
   "metadata": {},
   "outputs": [],
   "source": [
    "# property案例\n",
    "# 定义一个Person类，具有name，age属性\n",
    "# 对于任意输入的姓名，我们希望都用大写方式保存\n",
    "# 年龄，我们希望内部统一用整数保存\n",
    "# x = property(fget,fest,fdel,doc)\n",
    "\n",
    "class Person():\n",
    "    '''\n",
    "    这是说明文档，下面可以查看这个\n",
    "    '''\n",
    "    \n",
    "    # 函数的名称可以随意\n",
    "    def fget(self):\n",
    "        return self._name * 2\n",
    "    def fset(self,name):\n",
    "        # 所有输入的姓名大写形式保存\n",
    "        self._name = name.upper()\n",
    "        \n",
    "    def fdel(self):\n",
    "        self._name = \"NoName\"\n",
    "        \n",
    "    name = property(fget,fset,fdel,\"对name进行操作\")"
   ]
  },
  {
   "cell_type": "code",
   "execution_count": 2,
   "metadata": {},
   "outputs": [
    {
     "name": "stdout",
     "output_type": "stream",
     "text": [
      "WHWH\n"
     ]
    }
   ],
   "source": [
    "p1 = Person()\n",
    "p1.name = \"wh\"\n",
    "print(p1.name)"
   ]
  },
  {
   "cell_type": "code",
   "execution_count": 10,
   "metadata": {},
   "outputs": [
    {
     "name": "stdout",
     "output_type": "stream",
     "text": [
      "{'__module__': '__main__', '__doc__': '\\n    这是说明文档，下面可以查看这个\\n    ', 'fget': <function Person.fget at 0x0000014EBAD83AE8>, 'fset': <function Person.fset at 0x0000014EBAD83950>, 'fdel': <function Person.fdel at 0x0000014EBAD83A60>, 'name': <property object at 0x0000014EBAD99DB8>, '__dict__': <attribute '__dict__' of 'Person' objects>, '__weakref__': <attribute '__weakref__' of 'Person' objects>}\n",
      "\n",
      "    这是说明文档，下面可以查看这个\n",
      "    \n",
      "Person\n",
      "(<class 'object'>,)\n"
     ]
    }
   ],
   "source": [
    "# 类的内置属性举例\n",
    "print(Person.__dict__)\n",
    "print(Person.__doc__)\n",
    "print(Person.__name__)\n",
    "print(Person.__bases__)"
   ]
  },
  {
   "cell_type": "code",
   "execution_count": 12,
   "metadata": {},
   "outputs": [
    {
     "name": "stdout",
     "output_type": "stream",
     "text": [
      "haha\n"
     ]
    }
   ],
   "source": [
    "# init举例\n",
    "class A():\n",
    "    def __init__(self):\n",
    "        print(\"haha\")\n",
    "        \n",
    "a = A()\n"
   ]
  },
  {
   "cell_type": "code",
   "execution_count": 14,
   "metadata": {},
   "outputs": [
    {
     "name": "stdout",
     "output_type": "stream",
     "text": [
      "haha\n",
      "dyl\n"
     ]
    }
   ],
   "source": [
    "# __call__举例\n",
    "class A():\n",
    "    def __init__(self):\n",
    "        print(\"haha\")\n",
    "        \n",
    "    def __call__(self):\n",
    "        print(\"dyl\")\n",
    "        \n",
    "a = A()\n",
    "a()"
   ]
  },
  {
   "cell_type": "code",
   "execution_count": 16,
   "metadata": {},
   "outputs": [
    {
     "name": "stdout",
     "output_type": "stream",
     "text": [
      "haha\n",
      "hehhe\n"
     ]
    }
   ],
   "source": [
    "# __str__实例\n",
    "class A():\n",
    "    def __init__(self):\n",
    "        print(\"haha\")\n",
    "        \n",
    "    def __str__(self):\n",
    "        return \"hehhe\"\n",
    "        \n",
    "a = A()\n",
    "print(a)"
   ]
  },
  {
   "cell_type": "code",
   "execution_count": 19,
   "metadata": {},
   "outputs": [
    {
     "name": "stdout",
     "output_type": "stream",
     "text": [
      "wh\n",
      "no\n",
      "addr\n",
      "None\n"
     ]
    }
   ],
   "source": [
    "# __getattr__\n",
    "class A():\n",
    "    name = \"wh\"\n",
    "    age = 19\n",
    "    def __getattr__(self,name):\n",
    "        print(\"no\")\n",
    "        print(name)\n",
    "        \n",
    "a = A()\n",
    "print(a.name)\n",
    "print(a.addr)"
   ]
  },
  {
   "cell_type": "code",
   "execution_count": 2,
   "metadata": {},
   "outputs": [
    {
     "name": "stdout",
     "output_type": "stream",
     "text": [
      "{}\n",
      "设置属性：age\n"
     ]
    }
   ],
   "source": [
    "# __setattr__案例\n",
    "class Person():\n",
    "    def __init__(self):\n",
    "        pass\n",
    "    def __setattr__(self,name,value):\n",
    "        print(\"设置属性：{0}\".format(name))\n",
    "        # 以下语句会导致问题，死循环\n",
    "        #self.name = value\n",
    "        # 此种情况，为了避免死循环，规定统一调用用父类魔法函数\n",
    "        super().__setattr__(name,value)\n",
    "        \n",
    "        \n",
    "        \n",
    "p = Person()\n",
    "print(p.__dict__)\n",
    "p.age = 18"
   ]
  },
  {
   "cell_type": "code",
   "execution_count": 3,
   "metadata": {},
   "outputs": [
    {
     "name": "stdout",
     "output_type": "stream",
     "text": [
      "haha ,<__main__.Student object at 0x000001B3C276B860> hui bi <__main__.Student object at 0x000001B3C276B828> da ma?\n",
      "False\n"
     ]
    }
   ],
   "source": [
    "# __GT__\n",
    "class Student():\n",
    "    def __init__(self,name):\n",
    "        self._name = name\n",
    "        \n",
    "    def __gt__(self,obj):\n",
    "        print(\"haha ,{0} hui bi {1} da ma?\".format(self,obj))\n",
    "        return self._name > obj._name\n",
    "\n",
    "stu1 = Student(\"one\")\n",
    "stu2 = Student(\"two\")\n",
    "print(stu1 > stu2)"
   ]
  },
  {
   "cell_type": "code",
   "execution_count": 9,
   "metadata": {},
   "outputs": [
    {
     "name": "stdout",
     "output_type": "stream",
     "text": [
      "<__main__.Person object at 0x000001B3C2781710>\n",
      "eat....\n",
      "<class '__main__.Person'>\n",
      "play......\n",
      "<class '__main__.Person'>\n",
      "play......\n",
      "say........\n",
      "say........\n"
     ]
    }
   ],
   "source": [
    "# 三种方法的案例\n",
    "class Person():\n",
    "    # 实例方法\n",
    "    def eat(self):\n",
    "        print(self)\n",
    "        print(\"eat....\")\n",
    "        \n",
    "    # 类方法\n",
    "    # 类方法的第一个参数，一般命名为cls，区别于self\n",
    "    @classmethod\n",
    "    def play(cls):\n",
    "        print(cls)\n",
    "        print(\"play......\")\n",
    "        \n",
    "    # 静态方法\n",
    "    # 不需要用第一个参数表示自身或者类\n",
    "    @staticmethod\n",
    "    def say():\n",
    "        print(\"say........\")\n",
    "        \n",
    "\n",
    "yueyue = Person()\n",
    "\n",
    "# 实例方法\n",
    "yueyue.eat()\n",
    "# 类方法\n",
    "Person.play()\n",
    "yueyue.play()\n",
    "# 静态方法\n",
    "Person.say()\n",
    "yueyue.say()"
   ]
  },
  {
   "cell_type": "code",
   "execution_count": null,
   "metadata": {},
   "outputs": [],
   "source": []
  }
 ],
 "metadata": {
  "kernelspec": {
   "display_name": "Python 3",
   "language": "python",
   "name": "python3"
  },
  "language_info": {
   "codemirror_mode": {
    "name": "ipython",
    "version": 3
   },
   "file_extension": ".py",
   "mimetype": "text/x-python",
   "name": "python",
   "nbconvert_exporter": "python",
   "pygments_lexer": "ipython3",
   "version": "3.7.3"
  }
 },
 "nbformat": 4,
 "nbformat_minor": 2
}
