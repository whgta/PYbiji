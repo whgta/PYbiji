{
 "cells": [
  {
   "cell_type": "markdown",
   "metadata": {},
   "source": [
    "# while循环\n",
    "- 一个循环结构\n",
    "- 表示当某个条件成立的时候，就循环\n",
    "- 不知道具体循环次数，但是知道循环条件就用while\n",
    "- while语法：\n",
    "\n",
    "        while 条件表达式：\n",
    "            语句块"
   ]
  },
  {
   "cell_type": "markdown",
   "metadata": {},
   "source": [
    "# 四类参数\n",
    "- 普通参数\n",
    "- 默认参数\n",
    "- 关键字参数\n",
    "- 收集参数\n",
    "\n",
    "\n",
    "# 关键字参数开始\n",
    "- 语法\n",
    "\n",
    "        def func()：\n",
    "            func_body\n",
    "         \n",
    "         \n",
    "         调用函数：\n",
    "         func（）"
   ]
  },
  {
   "cell_type": "markdown",
   "metadata": {},
   "source": [
    "# 收集参数\n",
    "- 把没有位置，不能和定义时的参数位置相对因的参数，放入一个特定的数据结构中\n",
    "- 语法\n",
    "\n",
    "        def func（*args）：\n",
    "            func body\n",
    "            按照list使用方法访问args得到传入的参数\n",
    "            \n",
    "         调用：\n",
    "         func（p1，p2，。。。。）\n",
    "- 参数名args不是必要这么写，但是，我们推荐直接使用args，约定俗称\n",
    "- 参数名前需要加星号\n",
    "- 收集参数可以和其他参数共存"
   ]
  },
  {
   "cell_type": "code",
   "execution_count": 3,
   "metadata": {},
   "outputs": [
    {
     "name": "stdout",
     "output_type": "stream",
     "text": [
      "大家好：\n",
      "<class 'tuple'>\n",
      "www\n",
      "18\n",
      "aaa\n",
      "wwsss\n",
      "大家好：\n",
      "<class 'tuple'>\n",
      "ddd\n"
     ]
    }
   ],
   "source": [
    "# 收集参数代码\n",
    "# 函数模拟一个学生进行自我介绍，但具体内容不清楚\n",
    "# args看作一个列表\n",
    "def stu(*args):\n",
    "    print('大家好：')\n",
    "    # type函数作用时检测变量类型\n",
    "    print(type(args))\n",
    "    for item in args:\n",
    "        print(item)\n",
    "    \n",
    "\n",
    "stu('www',18,'aaa','wwsss')\n",
    "stu('ddd')"
   ]
  },
  {
   "cell_type": "code",
   "execution_count": 4,
   "metadata": {},
   "outputs": [
    {
     "name": "stdout",
     "output_type": "stream",
     "text": [
      "大家好：\n",
      "<class 'tuple'>\n"
     ]
    }
   ],
   "source": [
    "# 收集参数案例\n",
    "# 说明收集参数可以不带任何实参调用，次是收集参数为空tuple\n",
    "stu()"
   ]
  },
  {
   "cell_type": "code",
   "execution_count": 5,
   "metadata": {},
   "outputs": [
    {
     "ename": "TypeError",
     "evalue": "stu() got an unexpected keyword argument 'name'",
     "output_type": "error",
     "traceback": [
      "\u001b[1;31m---------------------------------------------------------------------------\u001b[0m",
      "\u001b[1;31mTypeError\u001b[0m                                 Traceback (most recent call last)",
      "\u001b[1;32m<ipython-input-5-e7d0b82c6c49>\u001b[0m in \u001b[0;36m<module>\u001b[1;34m\u001b[0m\n\u001b[0;32m      1\u001b[0m \u001b[1;31m# 如果使用关键字参数格式调用，会出现问题\u001b[0m\u001b[1;33m\u001b[0m\u001b[1;33m\u001b[0m\u001b[0m\n\u001b[1;32m----> 2\u001b[1;33m \u001b[0mstu\u001b[0m\u001b[1;33m(\u001b[0m\u001b[0mname\u001b[0m\u001b[1;33m=\u001b[0m\u001b[1;34m'www'\u001b[0m\u001b[1;33m)\u001b[0m\u001b[1;33m\u001b[0m\u001b[0m\n\u001b[0m",
      "\u001b[1;31mTypeError\u001b[0m: stu() got an unexpected keyword argument 'name'"
     ]
    }
   ],
   "source": [
    "# 如果使用关键字参数格式调用，会出现问题\n",
    "stu(name='www')"
   ]
  },
  {
   "cell_type": "markdown",
   "metadata": {},
   "source": [
    "### 收集参数之关键字收集参数\n",
    "- 把关键字参数书按字典格式存入收集参数\n",
    "- 语法：\n",
    "\n",
    "      def func(**kwargs):\n",
    "          func_body\n",
    "          \n",
    "       #调用：\n",
    "       func（p1=v1,p2=v2,...）\n",
    "- kwargs一般约定俗成\n",
    "- 调用的时候，把多余的关键字参数放入kwargs\n",
    "- 访问kwargs需要按字典格式访问\n"
   ]
  },
  {
   "cell_type": "code",
   "execution_count": 11,
   "metadata": {},
   "outputs": [
    {
     "name": "stdout",
     "output_type": "stream",
     "text": [
      "大家好：\n",
      "<class 'dict'>\n",
      "name --- www\n",
      "age --- 19\n",
      "addr --- sss\n",
      "**************************************************\n",
      "大家好：\n",
      "<class 'dict'>\n",
      "name --- aaaa\n"
     ]
    }
   ],
   "source": [
    "# 收集参数案例\n",
    "# 自我介绍\n",
    "# 调用的时候需要使用关键字参数调用\n",
    "def stu(**kwargs):\n",
    "    print('大家好：')\n",
    "    print(type(kwargs))\n",
    "    # 对于字典的访问，python2和3不一样\n",
    "    for k,v in kwargs.items():\n",
    "        print(k,'---',v)\n",
    "\n",
    "stu(name='www',age=19,addr='sss')\n",
    "print('*'*50)\n",
    "stu(name='aaaa')"
   ]
  },
  {
   "cell_type": "code",
   "execution_count": 12,
   "metadata": {},
   "outputs": [
    {
     "name": "stdout",
     "output_type": "stream",
     "text": [
      "大家好：\n",
      "<class 'dict'>\n"
     ]
    }
   ],
   "source": [
    "# 收集参数为空案例\n",
    "stu()"
   ]
  },
  {
   "cell_type": "markdown",
   "metadata": {},
   "source": [
    "### 收集参数混合调用的顺序问题\n",
    "- 收集参数，关键字参数，普通参数可以混合使用\n",
    "- 使用规则就是，普通参数和关键字参数优先\n",
    "- 定义的时候一般找到普通参数，关键字参数，收集参数tuple，收集参数dict\n"
   ]
  },
  {
   "cell_type": "code",
   "execution_count": 21,
   "metadata": {},
   "outputs": [
    {
     "name": "stdout",
     "output_type": "stream",
     "text": [
      "大家好\n",
      "我叫wh,我今年19\n",
      "wuaihao\n",
      "********************\n",
      "##############################\n",
      "大家好\n",
      "我叫wh,我今年19\n",
      "我的爱好是游泳\n",
      "********************\n",
      "##############################\n",
      "大家好\n",
      "我叫wh,我今年19\n",
      "我的爱好是游泳\n",
      "********************\n",
      "wl\n",
      "wc\n",
      "##############################\n",
      "aihao --- 打球\n",
      "aihao2 --- 上网\n"
     ]
    }
   ],
   "source": [
    "# 收集参数混合调用案例\n",
    "# 学生模拟自我介绍\n",
    "\n",
    "def stu(name,age,*args,hobby='meiyou',**kwargs):\n",
    "    print('大家好')\n",
    "    print('我叫{0},我今年{1}'.format(name,age))\n",
    "    if hobby == 'meiyou':\n",
    "        print('wuaihao')\n",
    "    else:\n",
    "        print('我的爱好是{0}'.format(hobby))\n",
    "        \n",
    "    print('*' * 20)\n",
    "    for i in args:\n",
    "        print(i)\n",
    "        \n",
    "    print('#' * 30)\n",
    "    \n",
    "    for k,v in kwargs.items():\n",
    "        print(k,'---',v)\n",
    "        \n",
    "        \n",
    "#开始调用\n",
    "name = 'wh'\n",
    "age = 19\n",
    "stu(name,age)\n",
    "\n",
    "stu(name,age,hobby='游泳')\n",
    "#  实参和形参要一一对应\n",
    "stu(name,age,'wl','wc',hobby='游泳',aihao='打球',aihao2='上网')"
   ]
  },
  {
   "cell_type": "markdown",
   "metadata": {},
   "source": [
    "### 收集参数的解包问题\n",
    "- 把参数放入list中，直接把list/dict中的值放入收集参数中\n",
    "- 语法：参看案例\n"
   ]
  },
  {
   "cell_type": "code",
   "execution_count": 8,
   "metadata": {},
   "outputs": [
    {
     "name": "stdout",
     "output_type": "stream",
     "text": [
      "hahahha\n",
      "<class 'list'>\n",
      "0\n",
      "['wh', 23, 22]\n",
      "hahahha\n",
      "<class 'str'>\n",
      "0\n",
      "wh\n",
      "<class 'int'>\n",
      "1\n",
      "23\n",
      "<class 'int'>\n",
      "2\n",
      "22\n"
     ]
    }
   ],
   "source": [
    "# 收集参数的解包问题\n",
    "def stu(*args):\n",
    "    print('hahahha')\n",
    "    n = 0 \n",
    "    for i in args:\n",
    "        print(type(i))\n",
    "        print(n)\n",
    "        n += 1\n",
    "        print(i)\n",
    "            \n",
    "#stu('wh','yss',14,13)\n",
    "l = list()\n",
    "l.append('wh')\n",
    "l.append(23)\n",
    "l.append(22)\n",
    "\n",
    "\n",
    "stu(l)\n",
    "# 此时，args的表示形式事字典内一个list类型的元素，即arg = （['wh','yss',14,13]）\n",
    "# 很显然跟我们最初的想法违背\n",
    "\n",
    "# 此时的调用，我们就需要解包符号，即调用的时候前面加一个星号\n",
    "stu(*l)"
   ]
  },
  {
   "cell_type": "markdown",
   "metadata": {},
   "source": [
    "# 同理，dict类型收集参数一样可以解包但是\n",
    "- 对dict类型进行解包\n",
    "- 需要两个星号进行解包\n"
   ]
  },
  {
   "cell_type": "markdown",
   "metadata": {},
   "source": [
    "# 返回值\n",
    "- 函数和过程的区别\n",
    "    - 有无返回值\n",
    "- 需要用return显示返回内容\n",
    "- 若果没有返回，默认返回None\n",
    "\n"
   ]
  },
  {
   "cell_type": "code",
   "execution_count": 10,
   "metadata": {},
   "outputs": [
    {
     "name": "stdout",
     "output_type": "stream",
     "text": [
      "ww\n",
      "1\n",
      "yy\n",
      "None\n"
     ]
    }
   ],
   "source": [
    "# 返回值案例\n",
    "def func_1():\n",
    "    print('ww')\n",
    "    return 1\n",
    "\n",
    "def func_2():\n",
    "    print('yy')\n",
    "    \n",
    "\n",
    "f1 = func_1()\n",
    "print(f1)\n",
    "f2 = func_2()\n",
    "print(f2)"
   ]
  },
  {
   "cell_type": "markdown",
   "metadata": {},
   "source": [
    "# 函数文档\n",
    "- 函数的文档的作用是对当前函数提供使用相关的参考信息\n",
    "- 文档的写法：\n",
    "    - 在函数内部开始的第一行使用三引号串定义符\n",
    "    - 一般具有特定格式\n",
    "    - 参考案例\n",
    "- 文档查看\n",
    "    - 使用help函数，形如help（func）\n",
    "    - 使用__doc__，参看案例"
   ]
  },
  {
   "cell_type": "code",
   "execution_count": 15,
   "metadata": {},
   "outputs": [],
   "source": [
    "# 文档案例\n",
    "# 函数stu事模拟学生自我介绍 \n",
    "def stu(name,age,*args):\n",
    "    '''\n",
    "    这是第一行\n",
    "    这是第二行\n",
    "    这是第三行\n",
    "    '''\n",
    "    print('this is hanshu stu')\n",
    "\n"
   ]
  },
  {
   "cell_type": "code",
   "execution_count": 16,
   "metadata": {},
   "outputs": [
    {
     "name": "stdout",
     "output_type": "stream",
     "text": [
      "Help on function stu in module __main__:\n",
      "\n",
      "stu(name, age, *args)\n",
      "    这是第一行\n",
      "    这是第二行\n",
      "    这是第三行\n",
      "\n"
     ]
    },
    {
     "data": {
      "text/plain": [
       "'\\n    这是第一行\\n    这是第二行\\n    这是第三行\\n    '"
      ]
     },
     "execution_count": 16,
     "metadata": {},
     "output_type": "execute_result"
    }
   ],
   "source": [
    "# 查看函数文档\n",
    "help(stu)\n",
    "stu.__doc__"
   ]
  },
  {
   "cell_type": "code",
   "execution_count": null,
   "metadata": {},
   "outputs": [],
   "source": []
  },
  {
   "cell_type": "code",
   "execution_count": null,
   "metadata": {},
   "outputs": [],
   "source": []
  },
  {
   "cell_type": "code",
   "execution_count": null,
   "metadata": {},
   "outputs": [],
   "source": []
  }
 ],
 "metadata": {
  "kernelspec": {
   "display_name": "Python 3",
   "language": "python",
   "name": "python3"
  },
  "language_info": {
   "codemirror_mode": {
    "name": "ipython",
    "version": 3
   },
   "file_extension": ".py",
   "mimetype": "text/x-python",
   "name": "python",
   "nbconvert_exporter": "python",
   "pygments_lexer": "ipython3",
   "version": "3.6.2"
  }
 },
 "nbformat": 4,
 "nbformat_minor": 2
}
