{
 "cells": [
  {
   "cell_type": "markdown",
   "metadata": {},
   "source": [
    "# str字符串\n",
    "- str\n",
    "- 转义字符\n",
    "- 格式化\n",
    "- 内建函数"
   ]
  },
  {
   "cell_type": "markdown",
   "metadata": {},
   "source": [
    "# 字符串\n",
    "- 表示文字信息\n",
    "- 用单引号，双引号，三引号括起来"
   ]
  },
  {
   "cell_type": "code",
   "execution_count": 1,
   "metadata": {},
   "outputs": [
    {
     "name": "stdout",
     "output_type": "stream",
     "text": [
      "qwet\n"
     ]
    }
   ],
   "source": [
    "s = 'qwet'\n",
    "print(s)"
   ]
  },
  {
   "cell_type": "code",
   "execution_count": 2,
   "metadata": {},
   "outputs": [
    {
     "name": "stdout",
     "output_type": "stream",
     "text": [
      "qwet\n"
     ]
    }
   ],
   "source": [
    "s =\"qwet\"\n",
    "print(s)"
   ]
  },
  {
   "cell_type": "code",
   "execution_count": 3,
   "metadata": {},
   "outputs": [
    {
     "name": "stdout",
     "output_type": "stream",
     "text": [
      "\n",
      "q\n",
      "we\n",
      "q\n",
      "\n"
     ]
    }
   ],
   "source": [
    "s = \"\"\"\n",
    "q\n",
    "we\n",
    "q\n",
    "\"\"\"\n",
    "print(s)"
   ]
  },
  {
   "cell_type": "markdown",
   "metadata": {},
   "source": [
    "# 转义字符\n",
    "- 用一个特色的方法表示出一系列不方便写出的内容，比如回车键，换行符，退格键\n",
    "- 借助反斜杠字符，一旦字符串中出现反斜杠，则反斜杠后面一个或几个字符表示已经不是原来的意思了，进行了转义\n",
    "- 在字符串中，一旦出现反斜杠就要加倍小心，可能由转义字符出现\n",
    "- 不同系统对换行操作有不同的表示\n",
    "    - Windows： \\n\n",
    "    - Linux: \\r\\n"
   ]
  },
  {
   "cell_type": "code",
   "execution_count": 10,
   "metadata": {},
   "outputs": [
    {
     "name": "stdout",
     "output_type": "stream",
     "text": [
      "Let's Go\n",
      "let's go\n",
      "C：\\user\\wh\n"
     ]
    }
   ],
   "source": [
    "# 转义字符的案例\n",
    "# 想表达Lets go\n",
    "# 使用转义字符\n",
    "\n",
    "\n",
    "#错误的\n",
    "#s = 'Let's Go'\n",
    "\n",
    "# 正确的\n",
    "s = 'Let\\'s Go' \n",
    "print(s)\n",
    "\n",
    "# 使用单双引号潜逃\n",
    "s = \"let's go\"\n",
    "print(s)\n",
    "\n",
    "# 表示斜杠\n",
    "# 比如表示C：\\user\\wh\n",
    "s = \"C：\\\\user\\\\wh\"\n",
    "print(s)"
   ]
  },
  {
   "cell_type": "code",
   "execution_count": 11,
   "metadata": {},
   "outputs": [
    {
     "name": "stdout",
     "output_type": "stream",
     "text": [
      "i\n",
      "love\n",
      "you\n"
     ]
    }
   ],
   "source": [
    "# 回车换行\n",
    "# 想表达的效果是：\n",
    "# i\n",
    "# love\n",
    "# you\n",
    "s = \"i\\nlove\\nyou\"\n",
    "print(s)"
   ]
  },
  {
   "cell_type": "markdown",
   "metadata": {},
   "source": [
    "# 常用的转义字符\n",
    "        \n",
    "        转义字符  描述\n",
    "        \\      续航符 \n",
    "        \\\\     反斜杠\n",
    "        \\'     单引号\n",
    "        \\\"     双引号\n",
    "        \\a     响铃\n",
    "        \\b     退格\n",
    "        \\e     转义\n",
    "        \\000    空\n",
    "        \\n  换行\n",
    "        \\v  纵向制表符\n",
    "        \\t  横向制表符\n",
    "        \\r  回车\n",
    "        \\f  换页\n",
    "        \\oyy    八进制数，yy代表的字符，例如：\\o12\n",
    "        \\xyy    十六进制\n",
    "        \\other   其他的字符以普通格式输出"
   ]
  },
  {
   "cell_type": "code",
   "execution_count": 12,
   "metadata": {},
   "outputs": [
    {
     "name": "stdout",
     "output_type": "stream",
     "text": [
      "sdada\n"
     ]
    }
   ],
   "source": [
    "# 单个斜杠的用法\n",
    "# 在python中，单个反斜杠表示此行未结束，出于美观，需要下一行继续\n",
    "# 理论上应该写成一行\n",
    "def myDemo(x,\\\n",
    "           y,\\\n",
    "           z):\n",
    "    print(\"sdada\")\n",
    "\n",
    "myDemo(1,2,3)\n"
   ]
  },
  {
   "cell_type": "markdown",
   "metadata": {},
   "source": [
    "# 格式化\n",
    "- 把字符串按照一定格式进行打印或者填充\n",
    "- 格式化分类：\n",
    "    - 传统格式化\n",
    "    - format"
   ]
  },
  {
   "cell_type": "markdown",
   "metadata": {},
   "source": [
    "# 字符串的传统格式化方法\n",
    "- 使用% 进行格式化\n",
    "- %也叫占位符\n"
   ]
  },
  {
   "cell_type": "code",
   "execution_count": 14,
   "metadata": {},
   "outputs": [
    {
     "name": "stdout",
     "output_type": "stream",
     "text": [
      "i love %s\n",
      "i love wh\n"
     ]
    }
   ],
   "source": [
    "# %s 表示简单的字符串\n",
    "# 占位符可以单独使用\n",
    "s = \"i love %s\"\n",
    "print(s)\n",
    "print(s%\"wh\")"
   ]
  },
  {
   "cell_type": "code",
   "execution_count": 16,
   "metadata": {},
   "outputs": [
    {
     "name": "stdout",
     "output_type": "stream",
     "text": [
      "i love wh\n",
      "i love 100\n"
     ]
    }
   ],
   "source": [
    "print(\"i love %s\"%\"wh\")\n",
    "# 占位符一般只能被同种类型替换，或者替换类型能被装换成占位符的类型\n",
    "# 以下案例属于特例\n",
    "print(\"i love %s\"%100)"
   ]
  },
  {
   "cell_type": "code",
   "execution_count": 17,
   "metadata": {},
   "outputs": [
    {
     "name": "stdout",
     "output_type": "stream",
     "text": [
      "我今年 20 岁了\n"
     ]
    }
   ],
   "source": [
    "s = \"我今年 %d 岁了\"\n",
    "print(s%20)"
   ]
  },
  {
   "cell_type": "code",
   "execution_count": 19,
   "metadata": {},
   "outputs": [
    {
     "name": "stdout",
     "output_type": "stream",
     "text": [
      "i am 60.900000Kg weight,1.730000m Heigh\n",
      "i am 60.90Kg weight,1.73m Heigh\n"
     ]
    }
   ],
   "source": [
    "s = \"i am %fKg weight,%fm Heigh\"\n",
    "# 如果需要格式化的信息多余一个，则用括号括起来就可以\n",
    "# 以下打印使用了默认格式，多余打出了好多个零\n",
    "print(s%(60.9,1.73))\n",
    "\n",
    "# 实际需要进行格式化的信息的数量必须与百分号后面给出的数据数量匹配，否则报错\n",
    "#如以下例子，实际需要格式化的4处，但是给出数据为三个，则报错\n",
    "\n",
    "\n",
    "s = \"i am %.2fKg weight,%.2fm Heigh\"\n",
    "print(s%(60.9,1.73))"
   ]
  },
  {
   "cell_type": "markdown",
   "metadata": {},
   "source": [
    "# format 格式化\n",
    "- 使用函数的形式进行格式化，代替以前的百分号\n"
   ]
  },
  {
   "cell_type": "code",
   "execution_count": 5,
   "metadata": {},
   "outputs": [
    {
     "name": "stdout",
     "output_type": "stream",
     "text": [
      "hello  world!\n",
      "hello  world!\n",
      "hello  world!\n",
      "world  world!\n",
      "我们是ccit,我们的网址ccit06,wh最帅\n"
     ]
    }
   ],
   "source": [
    "# 不用指定位置，按顺序读取\n",
    "s = \"{}  {}!\"\n",
    "print(s.format(\"hello\",\"world\"))\n",
    "\n",
    "\n",
    "\n",
    "#方法2\n",
    "s = \"{}  {}!\".format(\"hello\",\"world\")\n",
    "print(s)\n",
    "\n",
    "\n",
    "#设置指定位置\n",
    "s = \"{0}  {1}!\".format(\"hello\",\"world\")\n",
    "print(s)\n",
    "\n",
    "s = \"{1}  {1}!\".format(\"hello\",\"world\")\n",
    "print(s)\n",
    "\n",
    "\n",
    "#使用命名参数\n",
    "s = \"我们是{school_name},我们的网址{url},{teacher}最帅\"\n",
    "\n",
    "s = s.format(school_name=\"ccit\",url=\"ccit06\",teacher=\"wh\")\n",
    "print(s)"
   ]
  },
  {
   "cell_type": "code",
   "execution_count": 7,
   "metadata": {},
   "outputs": [
    {
     "name": "stdout",
     "output_type": "stream",
     "text": [
      "我们是ccit,我们的网址ccit06,wh最帅\n"
     ]
    }
   ],
   "source": [
    "# 通过字典设置参数，需要解包\n",
    "#使用命名参数\n",
    "s = \"我们是{school_name},我们的网址{url},{teacher}最帅\"\n",
    "\n",
    "s_dict = {\"school_name\":\"ccit\",\"url\":\"ccit06\",\"teacher\":\"wh\"}\n",
    "\n",
    "#**是解包操作，后面会讲到 \n",
    "s = s.format(**s_dict)\n",
    "print(s)"
   ]
  },
  {
   "cell_type": "code",
   "execution_count": 12,
   "metadata": {},
   "outputs": [
    {
     "name": "stdout",
     "output_type": "stream",
     "text": [
      "wo 1.844m height, 60.556Kg weight\n",
      "wo 1.84m height, 60.55Kg weight\n"
     ]
    }
   ],
   "source": [
    "# 对数字的格式化需要用到\n",
    "\n",
    "s = \"wo {}m height, {}Kg weight\"\n",
    "print(s.format(1.844,60.556))\n",
    "\n",
    "\n",
    "s = \"wo {:.2f}m height, {:.2f}Kg weight\"\n",
    "print(s.format(1.84,60.55))"
   ]
  },
  {
   "cell_type": "markdown",
   "metadata": {},
   "source": [
    "# str内置函数\n",
    "- 很多语言字符串使用string表示，但是python中用str表示字符串"
   ]
  }
 ],
 "metadata": {
  "kernelspec": {
   "display_name": "Python 3",
   "language": "python",
   "name": "python3"
  },
  "language_info": {
   "codemirror_mode": {
    "name": "ipython",
    "version": 3
   },
   "file_extension": ".py",
   "mimetype": "text/x-python",
   "name": "python",
   "nbconvert_exporter": "python",
   "pygments_lexer": "ipython3",
   "version": "3.6.2"
  }
 },
 "nbformat": 4,
 "nbformat_minor": 2
}
