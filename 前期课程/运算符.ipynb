{
 "cells": [
  {
   "cell_type": "markdown",
   "metadata": {},
   "source": [
    "# 字符串\n",
    "- 表达文字的信息内容，\n",
    "- 形式上是引出一段内容\n",
    "- 引号包括\n",
    "   - 单引号\n",
    "   - 双引号\n",
    "   - 三引号，可以用老表示多行信息\n",
    "   \n",
    "- 单双含义一致\n",
    "    "
   ]
  },
  {
   "cell_type": "code",
   "execution_count": 2,
   "metadata": {},
   "outputs": [
    {
     "name": "stdout",
     "output_type": "stream",
     "text": [
      "i  see you pain\n",
      "i  see your monters\n",
      "\n",
      "i\n",
      "love\n",
      "you\n",
      "\n"
     ]
    }
   ],
   "source": [
    "# 字符串案例\n",
    "love =\"i  see you pain\"\n",
    "print(love)\n",
    "\n",
    "\n",
    "love2 = 'i  see your monters'\n",
    "print(love2)\n",
    "#三引号可以表示多行\n",
    "love3='''\n",
    "i\n",
    "love\n",
    "you\n",
    "'''\n",
    "print(love3)\n"
   ]
  },
  {
   "cell_type": "markdown",
   "metadata": {},
   "source": [
    "# none类型\n",
    "- 表示没有，通常用来占位\n",
    "- 比如返回，用来表示返回一个空\n",
    "-  "
   ]
  },
  {
   "cell_type": "markdown",
   "metadata": {},
   "source": [
    "# 表达式\n",
    "- 由一个或者几个数字或者变量 或者运算符合成第一行代码 \n",
    "- 通常返回一个结果\n",
    "# 运算符\n",
    "- 由一个仪式上的值经过一系列的运算得到的新值的过程就叫运算\n",
    "- 用来操作运算的符号叫运算符\n",
    "- 运算符分类\n",
    "  - 算数运算符\n",
    "  - 比较或者关系运算符\n",
    "  - 赋值运算符\n",
    "  - 逻辑运算符\n",
    "  - 位运算\n",
    "  - 成员运算符\n",
    "  - 身份运算符\n",
    "  "
   ]
  },
  {
   "cell_type": "code",
   "execution_count": null,
   "metadata": {},
   "outputs": [],
   "source": [
    "#表达式案例\n",
    "a=1+2\n",
    "\n"
   ]
  },
  {
   "cell_type": "markdown",
   "metadata": {},
   "source": [
    "## 算数运算符\n",
    "- 用来进行算数运算的符号\n",
    "- 通常用来表示加减乘除\n",
    "- python没有自增自减运算符\n"
   ]
  },
  {
   "cell_type": "code",
   "execution_count": 4,
   "metadata": {},
   "outputs": [
    {
     "name": "stdout",
     "output_type": "stream",
     "text": [
      "7\n",
      "11\n",
      "18\n",
      "**************************************************\n",
      "4.5\n",
      "4\n",
      "1\n",
      "-3\n",
      "-2\n"
     ]
    }
   ],
   "source": [
    "#算术运算符案例\n",
    "#加减乘除和数学基本一致\n",
    "a=9 - 2\n",
    "print(a)\n",
    "\n",
    "\n",
    "b =9 + 2\n",
    "print(b)\n",
    "\n",
    "\n",
    "c= 9 * 2\n",
    "print(c)\n",
    "\n",
    "print('*'*50)\n",
    "#python的除法，地板除，取余，普通除法\n",
    "\n",
    "#正常除法\n",
    "#此操作符在python2.x 和python 3.x 有些不同\n",
    "a= 9 / 2\n",
    "print(a)\n",
    "\n",
    "\n",
    "\n",
    "#地板除 ,取整（没有四舍五入）\n",
    "a= 9 // 2\n",
    "print(a)\n",
    "\n",
    "#取余\n",
    "a= 9%2\n",
    "print(a)\n",
    "\n",
    "\n",
    "#除以负数的结果\n",
    "#理解这个结果参考取余的定义\n",
    "a= 9 % -4\n",
    "print(a)\n",
    "\n",
    "a=10 % -3\n",
    "print(a)"
   ]
  },
  {
   "cell_type": "code",
   "execution_count": null,
   "metadata": {},
   "outputs": [],
   "source": []
  },
  {
   "cell_type": "code",
   "execution_count": null,
   "metadata": {},
   "outputs": [],
   "source": []
  },
  {
   "cell_type": "code",
   "execution_count": null,
   "metadata": {},
   "outputs": [],
   "source": []
  }
 ],
 "metadata": {
  "kernelspec": {
   "display_name": "Python 3",
   "language": "python",
   "name": "python3"
  },
  "language_info": {
   "codemirror_mode": {
    "name": "ipython",
    "version": 3
   },
   "file_extension": ".py",
   "mimetype": "text/x-python",
   "name": "python",
   "nbconvert_exporter": "python",
   "pygments_lexer": "ipython3",
   "version": "3.6.2"
  }
 },
 "nbformat": 4,
 "nbformat_minor": 2
}
