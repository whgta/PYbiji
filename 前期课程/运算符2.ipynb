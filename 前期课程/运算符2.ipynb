{
 "cells": [
  {
   "cell_type": "markdown",
   "metadata": {},
   "source": [
    "# 接运算符"
   ]
  },
  {
   "cell_type": "code",
   "execution_count": 4,
   "metadata": {},
   "outputs": [
    {
     "name": "stdout",
     "output_type": "stream",
     "text": [
      "49\n"
     ]
    }
   ],
   "source": [
    "#两个乘号就是指数\n",
    "a = 7**2\n",
    "print(a)"
   ]
  },
  {
   "cell_type": "markdown",
   "metadata": {},
   "source": [
    "# 比较运算符\n",
    "- 对两个内容进行比较的运算符\n",
    "- 结果一定是布尔值，即 True/False\n"
   ]
  },
  {
   "cell_type": "code",
   "execution_count": 1,
   "metadata": {},
   "outputs": [
    {
     "name": "stdout",
     "output_type": "stream",
     "text": [
      "False\n",
      "True\n",
      "False\n"
     ]
    }
   ],
   "source": [
    "#等于==\n",
    "a= 3 == 4\n",
    "print(a)\n",
    "\n",
    "# 不等于   ！=\n",
    "a = 3!= 4\n",
    "print(a)\n",
    "\n",
    "\n",
    "#其他的符号是\n",
    "#>,>=,<,<=\n",
    "\n",
    "print(3>=8)"
   ]
  },
  {
   "cell_type": "markdown",
   "metadata": {},
   "source": [
    "# 赋值运算符\n",
    "- 把一个值放到变量里边去\n"
   ]
  },
  {
   "cell_type": "code",
   "execution_count": 2,
   "metadata": {},
   "outputs": [
    {
     "name": "stdout",
     "output_type": "stream",
     "text": [
      "6\n"
     ]
    }
   ],
   "source": [
    "#赋值符号 =\n",
    "a = 9\n",
    "#复杂赋值\n",
    "a= b= 9\n",
    "a,b=1,2\n",
    "\n",
    "\n",
    "#赋值的缩写\n",
    "\n",
    "c=3\n",
    "c=c+3\n",
    "print(c)\n",
    "\n",
    "\n",
    "##所有数学运算符都可以缩写\n",
    "#python中没有 ++ ，--\n"
   ]
  },
  {
   "cell_type": "markdown",
   "metadata": {},
   "source": [
    "# 逻辑运算符\n",
    "- 对布尔类型变量或者值进行运算的符号\n",
    "- and ：逻辑与\n",
    "- or ： 逻辑或\n",
    "-  not： 逻辑非\n",
    "- python 里面逻辑运算没有异或\n",
    "- 运算规则：\n",
    "  - and看作乘法，or看做加法\n",
    "  - true看作1，False看着做0\n",
    "  - 则逻辑运算就能装换成整数数学运算\n",
    "  - 最后结果如果是0则为False，否则为True\n",
    "- 逻辑运算的短路问题"
   ]
  },
  {
   "cell_type": "code",
   "execution_count": null,
   "metadata": {},
   "outputs": [],
   "source": [
    "#布尔值跟数字的转换\n",
    "#数字转换成布尔值的时候，0=false ，其余是true\n",
    "#布尔值转换成数字的时候：true=1 false=0"
   ]
  },
  {
   "cell_type": "markdown",
   "metadata": {},
   "source": [
    "# 成员运算符\n",
    "- 用来检测一个值或者变量是否在某个集合里面\n",
    "- in：成员运算符\n",
    "- not in ：不在里边的意思"
   ]
  },
  {
   "cell_type": "code",
   "execution_count": 3,
   "metadata": {},
   "outputs": [
    {
     "name": "stdout",
     "output_type": "stream",
     "text": [
      "False\n",
      "True\n"
     ]
    }
   ],
   "source": [
    "#in 案例\n",
    "\n",
    "L = [1,2,3,4]\n",
    "a = 6 \n",
    "aa = a in L\n",
    "print(aa)\n",
    "\n",
    "\n",
    "#a 没有在L里面\n",
    "aa = a not in L\n",
    "print(aa)"
   ]
  },
  {
   "cell_type": "markdown",
   "metadata": {},
   "source": [
    "# 身份运算符\n",
    "- 用来确定两个变量是否是同一变量\n",
    "- is ： 变量运算符\n",
    "- is not ：不是\n",
    "- python中，对整数N\\in[-5,256],解释器对他们做了单独的处理，放进了固定的内存了，不因你每次运行而变化。"
   ]
  },
  {
   "cell_type": "code",
   "execution_count": 4,
   "metadata": {},
   "outputs": [
    {
     "name": "stdout",
     "output_type": "stream",
     "text": [
      "False\n",
      "True\n"
     ]
    }
   ],
   "source": [
    "#身份运算符定义\n",
    "\n",
    "\n",
    "#a,b仅仅是值一样，并不代表a，b是一个变量\n",
    "a =10009\n",
    "b = 10009\n",
    "aa= a is b\n",
    "print(aa)\n",
    "\n",
    "\n",
    "\n",
    "#正确理解下面案例和上面的不同\n",
    "#a,b仅仅是值一样，并不代表a，b是一个变量\n",
    "#这里的数字如果不超过[-5,256]这个范围。把它当作一个变量\n",
    "a =2\n",
    "b = 2\n",
    "aa= a is b\n",
    "print(aa)\n",
    "\n"
   ]
  },
  {
   "cell_type": "markdown",
   "metadata": {},
   "source": [
    "# 运算符优先级问题\n",
    "- 小括号最高优先级\n",
    "\n",
    "        指数\n",
    "        位\n",
    "        乘除取余\n",
    "        加减\n",
    "        右移左移\n",
    "        ......\n",
    "        比较运算符\n",
    "        等于运算符\n",
    "        赋值运算符\n",
    "        身份运算符\n",
    "        成员运算符\n",
    "        逻辑运算符\n",
    "        "
   ]
  },
  {
   "cell_type": "code",
   "execution_count": null,
   "metadata": {},
   "outputs": [],
   "source": []
  },
  {
   "cell_type": "code",
   "execution_count": null,
   "metadata": {},
   "outputs": [],
   "source": []
  },
  {
   "cell_type": "code",
   "execution_count": null,
   "metadata": {},
   "outputs": [],
   "source": []
  },
  {
   "cell_type": "code",
   "execution_count": null,
   "metadata": {},
   "outputs": [],
   "source": []
  },
  {
   "cell_type": "code",
   "execution_count": null,
   "metadata": {},
   "outputs": [],
   "source": []
  },
  {
   "cell_type": "code",
   "execution_count": null,
   "metadata": {},
   "outputs": [],
   "source": []
  },
  {
   "cell_type": "code",
   "execution_count": null,
   "metadata": {},
   "outputs": [],
   "source": []
  }
 ],
 "metadata": {
  "kernelspec": {
   "display_name": "Python 3",
   "language": "python",
   "name": "python3"
  },
  "language_info": {
   "codemirror_mode": {
    "name": "ipython",
    "version": 3
   },
   "file_extension": ".py",
   "mimetype": "text/x-python",
   "name": "python",
   "nbconvert_exporter": "python",
   "pygments_lexer": "ipython3",
   "version": "3.6.2"
  }
 },
 "nbformat": 4,
 "nbformat_minor": 2
}
