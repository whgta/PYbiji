{
 "cells": [
  {
   "cell_type": "markdown",
   "metadata": {},
   "source": [
    "# 程序结构\n",
    "- 程序三种结构 \n",
    "  - 顺序\n",
    "  - 循环\n",
    "  - 分支"
   ]
  },
  {
   "cell_type": "markdown",
   "metadata": {},
   "source": [
    "# 分组结构\n",
    "- 分支结构基本语法 \n",
    "\n",
    "        if 条件表达式：\n",
    "            语句1\n",
    "            语句2\n",
    "            语句3\n",
    "            。。。\n",
    "- 条件表达式就是计算结果必须为布尔值的表达式\n",
    "- 表达式的冒号不能少\n",
    "- 注意if后面的出现的语句，如果属于if语句块，则必须同一个缩进等级\n",
    "- 条件表达式结果为True执行if后面的缩进的语句块\n"
   ]
  },
  {
   "cell_type": "code",
   "execution_count": 1,
   "metadata": {},
   "outputs": [
    {
     "name": "stdout",
     "output_type": "stream",
     "text": [
      "facaile \n",
      "hehhe\n"
     ]
    }
   ],
   "source": [
    "# if 语句联系\n",
    "# 如果你们都给我钱，我就发财了  \n",
    "a = '都买'\n",
    "if a :\n",
    "    print('facaile ')\n",
    "    print('hehhe')\n",
    "print('zzzz')\n",
    "#字符串空为假，有内容为真"
   ]
  },
  {
   "cell_type": "code",
   "execution_count": 2,
   "metadata": {},
   "outputs": [
    {
     "name": "stdout",
     "output_type": "stream",
     "text": [
      "hejiu\n",
      "xc\n"
     ]
    }
   ],
   "source": [
    "#if 联系二\n",
    "age = 19 \n",
    "if age > 16:\n",
    "    print('hejiu')\n",
    "    \n",
    "print('xc')"
   ]
  },
  {
   "cell_type": "markdown",
   "metadata": {},
   "source": [
    "# 双向分支\n",
    "- if....else ....表达\n",
    "- 语法结构：\n",
    "             if 条件表达式：\n",
    "               语句1\n",
    "               语句2\n",
    "               。。。\n",
    "              else：\n",
    "               语句1\n",
    "               .。。"
   ]
  },
  {
   "cell_type": "code",
   "execution_count": 5,
   "metadata": {},
   "outputs": [
    {
     "name": "stdout",
     "output_type": "stream",
     "text": [
      "请输入你的性别man\n",
      "man\n",
      "play\n"
     ]
    }
   ],
   "source": [
    "# input的作用是\n",
    "# 1.在屏幕上输出括号内的字符串\n",
    "# 2. 接受用户输入的内容并返回到程序\n",
    "# 3. input返回的内容一定是字符串类型\n",
    "\n",
    "# input负责接受用户输入并把内容返回给变量\n",
    "gender = input('请输入你的性别')\n",
    "# 打印输入的内容\n",
    "print(gender)\n",
    "\n",
    "if gender == 'man':\n",
    "    print('play')\n",
    "else:\n",
    "    print('bb')"
   ]
  },
  {
   "cell_type": "code",
   "execution_count": 11,
   "metadata": {},
   "outputs": [
    {
     "name": "stdout",
     "output_type": "stream",
     "text": [
      "输入成绩71\n",
      "B\n"
     ]
    }
   ],
   "source": [
    "# 考试成绩判断\n",
    "#成绩由用户输入\n",
    "# 90以上：输出优秀\n",
    "# 80-90 良\n",
    "# 70-80 中\n",
    "# 60-70 平\n",
    "# 60一下 差\n",
    "\n",
    "\n",
    "# input 输入的值全部是字符串类型\n",
    "score =input('输入成绩')\n",
    "\n",
    "\n",
    "#解决输入是字符串的问题\n",
    "score = int(score)\n",
    "if score> 90:\n",
    "    print('A')\n",
    "if score> 70 and score <80:\n",
    "    print('B')\n"
   ]
  },
  {
   "cell_type": "markdown",
   "metadata": {},
   "source": [
    "# 多路分支\n",
    "- 很多分支的 情况，叫多路分支\n",
    "  - if 条件表达式：\n",
    "    语句\n",
    "    ....\n",
    "    elif 条件表达式：\n",
    "      语句\n",
    "       ....\n",
    "    elif 条件表达式：\n",
    "      语句\n",
    "      ....\n",
    "    \n",
    "    else:\n",
    "      语句\n",
    "    \n",
    "- elif可以有很多个，根据实际情况\n",
    "- else可选\n",
    "- 多路分支最多只会执行一种情况\n",
    "# if语句补充\n",
    "- if 语句可以嵌套使用，但是不推荐\n",
    "- python没有switch语句"
   ]
  },
  {
   "cell_type": "markdown",
   "metadata": {},
   "source": [
    "# 循环语句\n",
    "- 重复执行某一个固定的动作或者任务\n",
    "- 分类\n",
    "    - for\n",
    "    - while\n",
    "# for 循环\n",
    "- 语法\n",
    "        \n",
    "       for 变量 in 序列：\n",
    "        语句\n",
    "        "
   ]
  },
  {
   "cell_type": "code",
   "execution_count": 12,
   "metadata": {},
   "outputs": [
    {
     "name": "stdout",
     "output_type": "stream",
     "text": [
      "1\n",
      "2\n",
      "3\n",
      "4\n",
      "5\n"
     ]
    }
   ],
   "source": [
    "# 列表只是以后会讲\n",
    "# 比如[1,2,3,4,5,6]\n",
    "\n",
    "list_one = [1,2,3,4,5]\n",
    "for shuzi in list_one:\n",
    "    print(shuzi)\n",
    "    print(shuzi+100)\n",
    "    print(shuzi+1000)"
   ]
  },
  {
   "cell_type": "code",
   "execution_count": 14,
   "metadata": {},
   "outputs": [
    {
     "name": "stdout",
     "output_type": "stream",
     "text": [
      "N\n",
      "Y\n",
      "N\n"
     ]
    }
   ],
   "source": [
    "# 打印学生列表姓名\n",
    "# 如果是ss，那肯定是我的最爱了\n",
    "# 如果是别的同学，那要冷酷的拒绝\n",
    "\n",
    "\n",
    "stu_list = ['wh','yss','lz']\n",
    "for stu in stu_list:\n",
    "    if stu == 'yss':\n",
    "        print('Y')\n",
    "    else:\n",
    "        print('N')"
   ]
  },
  {
   "cell_type": "markdown",
   "metadata": {},
   "source": [
    "# for-else语句\n",
    "- for循环结束的时候，有时候需要执行一些收尾 工作，此时需要使用else语句\n",
    "- else语句是可选"
   ]
  },
  {
   "cell_type": "code",
   "execution_count": 15,
   "metadata": {},
   "outputs": [
    {
     "name": "stdout",
     "output_type": "stream",
     "text": [
      "N\n",
      "Y\n",
      "N\n",
      "byebye\n"
     ]
    }
   ],
   "source": [
    "#  for-else语句\n",
    "# 打印列表中的同学，\n",
    "#如果没有在列表中，或者列表结束了，我们需要打印提示语句，表示不在\n",
    "\n",
    "\n",
    "stu_list = ['wh','yss','lz']\n",
    "for stu in stu_list:\n",
    "    if stu == 'yss':\n",
    "        print('Y')\n",
    "    else:\n",
    "        print('N')\n",
    "        \n",
    "else:\n",
    "    print('byebye')"
   ]
  },
  {
   "cell_type": "markdown",
   "metadata": {},
   "source": [
    "# break ,continue,pass\n",
    "- break:无条件结束整个循环，简称循环猝死\n",
    "- continue：继续\n",
    "- pass：只是占位符号,代表这句话啥也不干，没有跳过功能"
   ]
  },
  {
   "cell_type": "code",
   "execution_count": 16,
   "metadata": {},
   "outputs": [
    {
     "name": "stdout",
     "output_type": "stream",
     "text": [
      "3\n",
      "4\n",
      "5\n",
      "y\n"
     ]
    }
   ],
   "source": [
    "# 确定一个数字队列中是否包含数字7\n",
    "# 确定是否包含，只要找到一个即可确定，不需要继续找，所以用break\n",
    "\n",
    "dig_list = [3,4,5,7,54,3,23,2,4,7]\n",
    "for dig in dig_list:\n",
    "    if dig == 7:\n",
    "        print('y')\n",
    "        break\n",
    "        \n",
    "    else:\n",
    "        print(dig)\n"
   ]
  },
  {
   "cell_type": "code",
   "execution_count": 1,
   "metadata": {},
   "outputs": [
    {
     "name": "stdout",
     "output_type": "stream",
     "text": [
      "4\n",
      "54\n",
      "2\n",
      "4\n"
     ]
    }
   ],
   "source": [
    "#continue 语句练习\n",
    "# 在数字1-10中，寻找所有偶数，找到偶数后打印偶数\n",
    "dig_list = [3,4,5,7,54,3,23,2,4,7]\n",
    "for dig in dig_list:\n",
    "    if dig %2== 0:\n",
    "        print(dig)\n",
    "        continue"
   ]
  },
  {
   "cell_type": "code",
   "execution_count": 2,
   "metadata": {},
   "outputs": [
    {
     "name": "stdout",
     "output_type": "stream",
     "text": [
      "xiao\n"
     ]
    }
   ],
   "source": [
    "#pass案例\n",
    "age = 19\n",
    "if age > 19:\n",
    "    pass\n",
    "else:\n",
    "    print('xiao')"
   ]
  },
  {
   "cell_type": "code",
   "execution_count": 3,
   "metadata": {},
   "outputs": [
    {
     "name": "stdout",
     "output_type": "stream",
     "text": [
      "1\n",
      "2\n",
      "3\n",
      "4\n",
      "5\n"
     ]
    }
   ],
   "source": [
    "# pass案例2\n",
    "ages = [1,2,3,4,5]\n",
    "for age in ages:\n",
    "    pass\n",
    "    print(age)"
   ]
  },
  {
   "cell_type": "markdown",
   "metadata": {},
   "source": [
    "# range 函数\n",
    "- 生成有序数列\n",
    "- 生成数字队列可以定制"
   ]
  },
  {
   "cell_type": "code",
   "execution_count": 4,
   "metadata": {},
   "outputs": [
    {
     "name": "stdout",
     "output_type": "stream",
     "text": [
      "1\n",
      "2\n",
      "3\n",
      "4\n",
      "5\n",
      "6\n",
      "7\n",
      "8\n",
      "9\n",
      "10\n",
      "11\n",
      "12\n",
      "13\n",
      "14\n",
      "15\n",
      "16\n",
      "17\n",
      "18\n",
      "19\n",
      "20\n",
      "21\n",
      "22\n",
      "23\n",
      "24\n",
      "25\n",
      "26\n",
      "27\n",
      "28\n",
      "29\n",
      "30\n",
      "31\n",
      "32\n",
      "33\n",
      "34\n",
      "35\n",
      "36\n",
      "37\n",
      "38\n",
      "39\n",
      "40\n",
      "41\n",
      "42\n",
      "43\n",
      "44\n",
      "45\n",
      "46\n",
      "47\n",
      "48\n",
      "49\n",
      "50\n",
      "51\n",
      "52\n",
      "53\n",
      "54\n",
      "55\n",
      "56\n",
      "57\n",
      "58\n",
      "59\n",
      "60\n",
      "61\n",
      "62\n",
      "63\n",
      "64\n",
      "65\n",
      "66\n",
      "67\n",
      "68\n",
      "69\n",
      "70\n",
      "71\n",
      "72\n",
      "73\n",
      "74\n",
      "75\n",
      "76\n",
      "77\n",
      "78\n",
      "79\n",
      "80\n",
      "81\n",
      "82\n",
      "83\n",
      "84\n",
      "85\n",
      "86\n",
      "87\n",
      "88\n",
      "89\n",
      "90\n",
      "91\n",
      "92\n",
      "93\n",
      "94\n",
      "95\n",
      "96\n",
      "97\n",
      "98\n",
      "99\n",
      "100\n"
     ]
    }
   ],
   "source": [
    "# range 案例1\n",
    "# 生成一个1到100的数字\n",
    "#range的生成序列的两个面数字是左包括，右不包括\n",
    "dig_list = range(1,101)\n",
    "for dig in dig_list:\n",
    "    print(dig)\n",
    "    \n",
    "    \n",
    "# 一般在python中，连个表示范围的数字都是左包括右边不包括，rangint函数是个特例\n",
    "#range函数在python2.x和python3.x中有严重区别\n"
   ]
  },
  {
   "cell_type": "code",
   "execution_count": 5,
   "metadata": {},
   "outputs": [
    {
     "name": "stdout",
     "output_type": "stream",
     "text": [
      "1\n",
      "2\n",
      "3\n",
      "4\n",
      "5\n",
      "6\n",
      "7\n",
      "8\n",
      "9\n"
     ]
    }
   ],
   "source": [
    "# range案例3\n",
    "#打印从1到9的数字\n",
    "for i in range(1,10):\n",
    "    print(i)"
   ]
  },
  {
   "cell_type": "code",
   "execution_count": null,
   "metadata": {},
   "outputs": [],
   "source": []
  }
 ],
 "metadata": {
  "kernelspec": {
   "display_name": "Python 3",
   "language": "python",
   "name": "python3"
  },
  "language_info": {
   "codemirror_mode": {
    "name": "ipython",
    "version": 3
   },
   "file_extension": ".py",
   "mimetype": "text/x-python",
   "name": "python",
   "nbconvert_exporter": "python",
   "pygments_lexer": "ipython3",
   "version": "3.6.2"
  }
 },
 "nbformat": 4,
 "nbformat_minor": 2
}
