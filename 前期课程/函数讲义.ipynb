{
 "cells": [
  {
   "cell_type": "markdown",
   "metadata": {},
   "source": [
    "# 本课程内容\n",
    "- 函数讲完参数\n",
    "- str\n",
    "- list ，tupe，set ,map"
   ]
  },
  {
   "cell_type": "code",
   "execution_count": 7,
   "metadata": {},
   "outputs": [],
   "source": [
    "# 函数定义\n",
    "def func():\n",
    "    print('111')\n",
    "    print('222')\n",
    "    \n"
   ]
  },
  {
   "cell_type": "code",
   "execution_count": 8,
   "metadata": {},
   "outputs": [
    {
     "name": "stdout",
     "output_type": "stream",
     "text": [
      "111\n",
      "222\n"
     ]
    }
   ],
   "source": [
    "func()"
   ]
  },
  {
   "cell_type": "markdown",
   "metadata": {},
   "source": [
    "# 函数的参数和返回值\n",
    "- 参数：负责给函数传递一些必要的数据或者信息\n",
    "    - 形参（形式参数）：在函数定义的时候用到的参数，没有具体指，只是一个占位符号\n",
    "    - 实参（实际参数）：在调用函数的时候输入的值\n",
    "- 返回值：调用函数的时候的一个执行结果\n",
    "    - 使用return返回结果\n",
    "    - 如果没有值需要返回，我们推荐使用return None 表示函数结束\n",
    "    - 函数一旦执行return关键字，则函数默认返回None\n"
   ]
  },
  {
   "cell_type": "code",
   "execution_count": 9,
   "metadata": {},
   "outputs": [
    {
     "name": "stdout",
     "output_type": "stream",
     "text": [
      "小明,你好吗？\n",
      "小明,你看见谁了啊 ？\n"
     ]
    }
   ],
   "source": [
    "# 形参呵实参的案例\n",
    "# 参数person只是一个符号\n",
    "# 调用时候用另一个\n",
    "\n",
    "def hello(person):\n",
    "    print(\"{0},你好吗？\".format(person))#format 也是函数这里在暂时不说\n",
    "    print(\"{},你看见谁了啊 ？\".format(person))\n",
    "    \n",
    "p = \"小明\"\n",
    "# 调用函数，需要把p作为实参传入\n",
    "hello(p)"
   ]
  },
  {
   "cell_type": "code",
   "execution_count": 10,
   "metadata": {},
   "outputs": [
    {
     "name": "stdout",
     "output_type": "stream",
     "text": [
      "小五,你好吗？\n",
      "小五,你看见谁了啊 ？\n"
     ]
    }
   ],
   "source": [
    "p = \"小五\"\n",
    "hello(p)"
   ]
  },
  {
   "cell_type": "code",
   "execution_count": 11,
   "metadata": {},
   "outputs": [
    {
     "name": "stdout",
     "output_type": "stream",
     "text": [
      "凉城,你好吗？\n",
      "凉城,你看见谁了啊 ？\n",
      "None\n"
     ]
    }
   ],
   "source": [
    "pp = hello(\"凉城\")\n",
    "print(pp)"
   ]
  },
  {
   "cell_type": "code",
   "execution_count": 12,
   "metadata": {},
   "outputs": [
    {
     "name": "stdout",
     "output_type": "stream",
     "text": [
      "Help on built-in function print in module builtins:\n",
      "\n",
      "print(...)\n",
      "    print(value, ..., sep=' ', end='\\n', file=sys.stdout, flush=False)\n",
      "    \n",
      "    Prints the values to a stream, or to sys.stdout by default.\n",
      "    Optional keyword arguments:\n",
      "    file:  a file-like object (stream); defaults to the current sys.stdout.\n",
      "    sep:   string inserted between values, default a space.\n",
      "    end:   string appended after the last value, default a newline.\n",
      "    flush: whether to forcibly flush the stream.\n",
      "\n"
     ]
    }
   ],
   "source": [
    "# help负责随时为你提供帮助\n",
    "help(print)"
   ]
  },
  {
   "cell_type": "code",
   "execution_count": 14,
   "metadata": {},
   "outputs": [
    {
     "name": "stdout",
     "output_type": "stream",
     "text": [
      "1 \n",
      "\n",
      "2 4 \n",
      "\n",
      "3 6 9 \n",
      "\n",
      "4 8 12 16 \n",
      "\n",
      "5 10 15 20 25 \n",
      "\n",
      "6 12 18 24 30 36 \n",
      "\n",
      "7 14 21 28 35 42 49 \n",
      "\n",
      "8 16 24 32 40 48 56 64 \n",
      "\n",
      "9 18 27 36 45 54 63 72 81 \n",
      "\n"
     ]
    }
   ],
   "source": [
    "# 九久乘法表\n",
    "# version 1.0\n",
    "for i in range(1,10):\n",
    "    for j in range(1,i+1):\n",
    "        print(i*j,end=' ')\n",
    "    print('\\n')"
   ]
  },
  {
   "cell_type": "code",
   "execution_count": 1,
   "metadata": {},
   "outputs": [
    {
     "name": "stdout",
     "output_type": "stream",
     "text": [
      "1 \n",
      "\n",
      "2 4 \n",
      "\n",
      "3 6 9 \n",
      "\n",
      "4 8 12 16 \n",
      "\n",
      "5 10 15 20 25 \n",
      "\n",
      "6 12 18 24 30 36 \n",
      "\n",
      "7 14 21 28 35 42 49 \n",
      "\n",
      "8 16 24 32 40 48 56 64 \n",
      "\n",
      "9 18 27 36 45 54 63 72 81 \n",
      "\n",
      "1 \n",
      "\n",
      "2 4 \n",
      "\n",
      "3 6 9 \n",
      "\n",
      "4 8 12 16 \n",
      "\n",
      "5 10 15 20 25 \n",
      "\n",
      "6 12 18 24 30 36 \n",
      "\n",
      "7 14 21 28 35 42 49 \n",
      "\n",
      "8 16 24 32 40 48 56 64 \n",
      "\n",
      "9 18 27 36 45 54 63 72 81 \n",
      "\n"
     ]
    }
   ],
   "source": [
    "# 尝试函数来打印九九\n",
    "def jiujiu():\n",
    "    for i in range(1,10):\n",
    "        for j in range(1,i+1):\n",
    "            print(i*j,end=' ')\n",
    "        print('\\n')\n",
    "    return None\n",
    "        \n",
    "jiujiu()\n",
    "jiujiu()"
   ]
  },
  {
   "cell_type": "code",
   "execution_count": 4,
   "metadata": {},
   "outputs": [
    {
     "name": "stdout",
     "output_type": "stream",
     "text": [
      "1 \n",
      "\n",
      "2 4 \n",
      "\n",
      "3 6 9 \n",
      "\n",
      "4 8 12 16 \n",
      "\n",
      "5 10 15 20 25 \n",
      "\n",
      "6 12 18 24 30 36 \n",
      "\n",
      "7 14 21 28 35 42 49 \n",
      "\n",
      "8 16 24 32 40 48 56 64 \n",
      "\n",
      "9 18 27 36 45 54 63 72 81 \n",
      "\n"
     ]
    }
   ],
   "source": [
    "# 改造上面的函数\n",
    "def printLine(line_num):\n",
    "    for j in range(1,line_num+1):\n",
    "        print(line_num*j,end=' ')\n",
    "\n",
    "def jiujiu():\n",
    "    for i in range(1,10):\n",
    "        printLine(i)\n",
    "        print('\\n')\n",
    "    return None\n",
    "\n",
    "jiujiu()"
   ]
  },
  {
   "cell_type": "markdown",
   "metadata": {},
   "source": [
    "# 参数详讲\n",
    "- 参数分类\n",
    "    - 普通参数/位置参数\n",
    "    - 默认参数\n",
    "    - 关键字参数\n",
    "    - 收集参数\n",
    "   "
   ]
  },
  {
   "cell_type": "code",
   "execution_count": 5,
   "metadata": {},
   "outputs": [
    {
     "name": "stdout",
     "output_type": "stream",
     "text": [
      "3\n"
     ]
    }
   ],
   "source": [
    "#普通参数案例\n",
    "def normal_para(one,two,three):\n",
    "    print(one+two)\n",
    "    return None\n",
    "normal_para(1,2,3)"
   ]
  },
  {
   "cell_type": "code",
   "execution_count": 11,
   "metadata": {},
   "outputs": [
    {
     "name": "stdout",
     "output_type": "stream",
     "text": [
      "3\n",
      "100\n",
      "3\n",
      "3\n"
     ]
    }
   ],
   "source": [
    "# 默认参数案例\n",
    "def default_para(one,two,three=100):\n",
    "    print(one+two)\n",
    "    print(three)\n",
    "    return None\n",
    "    \n",
    "default_para(1,2)\n",
    "default_para(1,2,3)"
   ]
  },
  {
   "cell_type": "code",
   "execution_count": 13,
   "metadata": {},
   "outputs": [
    {
     "name": "stdout",
     "output_type": "stream",
     "text": [
      "4\n",
      "4\n"
     ]
    }
   ],
   "source": [
    "# 关键字参数\n",
    "\n",
    "def keys_para(one,two,three):\n",
    "    print(one+two)\n",
    "    return None\n",
    "keys_para(one=1,two=3,three=2)\n",
    "keys_para(three=2,two=3,one=1)"
   ]
  },
  {
   "cell_type": "code",
   "execution_count": null,
   "metadata": {},
   "outputs": [],
   "source": []
  },
  {
   "cell_type": "code",
   "execution_count": null,
   "metadata": {},
   "outputs": [],
   "source": []
  }
 ],
 "metadata": {
  "kernelspec": {
   "display_name": "Python 3",
   "language": "python",
   "name": "python3"
  },
  "language_info": {
   "codemirror_mode": {
    "name": "ipython",
    "version": 3
   },
   "file_extension": ".py",
   "mimetype": "text/x-python",
   "name": "python",
   "nbconvert_exporter": "python",
   "pygments_lexer": "ipython3",
   "version": "3.6.2"
  }
 },
 "nbformat": 4,
 "nbformat_minor": 2
}
