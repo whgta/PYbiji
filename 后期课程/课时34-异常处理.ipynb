{
 "cells": [
  {
   "cell_type": "markdown",
   "metadata": {},
   "source": [
    "# 异常\n",
    "- 广义上的错误分为错误和一场\n",
    "- 错误指的是可以人为避免\n",
    "- 异常时指在语法逻辑正确的前提下，出现问题\n",
    "- 在python里，异常是一个类，可以处理和使用\n"
   ]
  },
  {
   "cell_type": "code",
   "execution_count": 1,
   "metadata": {},
   "outputs": [
    {
     "ename": "NameError",
     "evalue": "name 'l' is not defined",
     "output_type": "error",
     "traceback": [
      "\u001b[1;31m---------------------------------------------------------------------------\u001b[0m",
      "\u001b[1;31mNameError\u001b[0m                                 Traceback (most recent call last)",
      "\u001b[1;32m<ipython-input-1-731a6c6e3e25>\u001b[0m in \u001b[0;36m<module>\u001b[1;34m\u001b[0m\n\u001b[1;32m----> 1\u001b[1;33m \u001b[0ml\u001b[0m \u001b[1;33m=\u001b[0m \u001b[0ml\u001b[0m\u001b[1;33m[\u001b[0m\u001b[1;36m1\u001b[0m\u001b[1;33m,\u001b[0m\u001b[1;36m2\u001b[0m\u001b[1;33m,\u001b[0m\u001b[1;36m3\u001b[0m\u001b[1;33m]\u001b[0m\u001b[1;33m\u001b[0m\u001b[1;33m\u001b[0m\u001b[0m\n\u001b[0m\u001b[0;32m      2\u001b[0m \u001b[0mprint\u001b[0m\u001b[1;33m(\u001b[0m\u001b[0ml\u001b[0m\u001b[1;33m[\u001b[0m\u001b[1;36m10\u001b[0m\u001b[1;33m]\u001b[0m\u001b[1;33m)\u001b[0m\u001b[1;33m\u001b[0m\u001b[1;33m\u001b[0m\u001b[0m\n",
      "\u001b[1;31mNameError\u001b[0m: name 'l' is not defined"
     ]
    }
   ],
   "source": [
    "l = l[1,2,3]\n",
    "print(l[10])"
   ]
  },
  {
   "cell_type": "markdown",
   "metadata": {},
   "source": [
    "# 异常处理\n",
    "- 不能保证程序永远正确运行\n",
    "- 但是，必须保证程序在最坏的情况下得到的问题被妥善处理\n",
    "- python的异常处理模块全部语法为：\n",
    "        \n",
    "            \n",
    "            try:\n",
    "                尝试实现某个操作\n",
    "                如果没出现异常，任务就可以完成\n",
    "                如果出现异常，将异常从当前代码块扔出去尝试解决异常\n",
    "            except  异常类型1：\n",
    "                解决方案1：用于尝试在此处处理异常解决问题\n",
    "                \n",
    "             except  异常类型2：\n",
    "                解决方案1：用于尝试在此处处理异常解决问题\n",
    "                \n",
    "             except （异常类型1，异常类型2....）\n",
    "                 解决方案：针对多个异常使用相同的处理方式\n",
    "             except：\n",
    "                 解决方案：所有异常处理的解决 方案\n",
    "             else：\n",
    "                 如果没有出现异常，将会执行此处代码\n",
    "             finally：\n",
    "                 都要执行的代码\n",
    "- 流程\n",
    "    1. 执行try下面的的语句\n",
    "    2. 如果出现异常，则在except与距离查找对应异常并进行处理\n",
    "    3. 如果没有出现异常，则执行else语句内容\n",
    "    4. 最后，不管是否出现异常，都要执行finally语句\n",
    "- except（最少一个）以外，else和finally可选\n",
    "             "
   ]
  },
  {
   "cell_type": "markdown",
   "metadata": {},
   "source": [
    "# 用户手动引发的异常\n",
    "- 当某些情况，用户希望自己引发一个异常的时候，可以使用\n",
    "- raise 关键字来引发异常"
   ]
  },
  {
   "cell_type": "code",
   "execution_count": 2,
   "metadata": {},
   "outputs": [
    {
     "name": "stdout",
     "output_type": "stream",
     "text": [
      "wh\n",
      "12\n",
      "ve\n",
      "zzzz\n"
     ]
    }
   ],
   "source": [
    "# raise案例\n",
    "# 自己定义异常\n",
    "# 需要注意：自定义异常必须是系统异常的子类\n",
    "try:\n",
    "    print('wh')\n",
    "    print(12)\n",
    "    \n",
    "    # 手动引发一个异常\n",
    "    # 注意语法: raise ErrorClassName \n",
    "    raise ValueError\n",
    "    print(\"mei  wan le \")\n",
    "except ValueError as e:\n",
    "    print(\"ve\")\n",
    "except Exception as e:\n",
    "    print(\"ex\")\n",
    "    \n",
    "finally:\n",
    "    print(\"zzzz\")"
   ]
  },
  {
   "cell_type": "code",
   "execution_count": null,
   "metadata": {},
   "outputs": [],
   "source": []
  },
  {
   "cell_type": "code",
   "execution_count": null,
   "metadata": {},
   "outputs": [],
   "source": []
  }
 ],
 "metadata": {
  "kernelspec": {
   "display_name": "Python 3",
   "language": "python",
   "name": "python3"
  },
  "language_info": {
   "codemirror_mode": {
    "name": "ipython",
    "version": 3
   },
   "file_extension": ".py",
   "mimetype": "text/x-python",
   "name": "python",
   "nbconvert_exporter": "python",
   "pygments_lexer": "ipython3",
   "version": "3.7.3"
  }
 },
 "nbformat": 4,
 "nbformat_minor": 2
}
