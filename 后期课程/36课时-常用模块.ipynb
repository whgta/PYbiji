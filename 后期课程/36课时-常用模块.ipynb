{
 "cells": [
  {
   "cell_type": "markdown",
   "metadata": {},
   "source": [
    "# os - 操作系统相关\n",
    "- 跟操作系统相关，主要是文件操作\n",
    "- 于系统相关的操作，主要包含三个模块里\n",
    "    - os，操作系统目录相关\n",
    "    - os.path，系统路径相关操作\n",
    "    - shutil,高级文件操作，目录树的操作，文件赋值，删除，移动\n",
    "- 路径：\n",
    "    - 绝对路径：总是从根目录上开始\n",
    "    - 相对路径：基本以当前环境开始的一个相对地方\n",
    "    "
   ]
  },
  {
   "cell_type": "markdown",
   "metadata": {},
   "source": [
    "# os模块"
   ]
  },
  {
   "cell_type": "code",
   "execution_count": 3,
   "metadata": {},
   "outputs": [],
   "source": [
    "# getcwd()获取当前的工作目录\n",
    "# 格式：os.getcwd()\n",
    "# 返回值：当前工作目录的字符串\n",
    "# 当前工作目录就是程序在进行文件相关的操作，默认擦汗寻文件的目录\n",
    "\n",
    "import os\n"
   ]
  },
  {
   "cell_type": "code",
   "execution_count": 5,
   "metadata": {},
   "outputs": [
    {
     "name": "stdout",
     "output_type": "stream",
     "text": [
      "C:\\Users\\wh\\python\n"
     ]
    }
   ],
   "source": [
    "mydir = os.getcwd()\n",
    "print(mydir)"
   ]
  },
  {
   "cell_type": "code",
   "execution_count": null,
   "metadata": {},
   "outputs": [],
   "source": [
    "# chdir()改变当前的工作目录\n",
    "# 格式：os.chdir(路径)\n",
    "# 返回值：无"
   ]
  },
  {
   "cell_type": "code",
   "execution_count": 7,
   "metadata": {},
   "outputs": [
    {
     "name": "stdout",
     "output_type": "stream",
     "text": [
      "['.ipynb_checkpoints', '1.str模块.ipynb', '2.字符串+变量.ipynb', '35课时-常用模块.ipynb', '36课时-常用模块.ipynb', '4.while循环-函数完结.ipynb', '6.函数作用域和集合列表字典元组.ipynb', '7.内置数据结构.ipynb', '8.内置函数.ipynb', '9.内置函数set.ipynb', 'oop-2.ipynb', 'OOP-3.ipynb', 'OOP-4.ipynb', 'while循环.ipynb', '关于self.ipynb', '函数讲义.ipynb', '微博爬虫.ipynb', '程序结构.ipynb', '类-成员描述符.ipynb', '课时34-异常处理.ipynb', '运算符.ipynb', '运算符2.ipynb']\n"
     ]
    }
   ],
   "source": [
    "# listdir() 获取一个目录中所有子目录和文件的名称列表\n",
    "# 格式：os.listdir(路径)\n",
    "# 返回值：所有子目录和文件名称列表\n",
    "\n",
    "ld = os.listdir()\n",
    "print(ld)"
   ]
  },
  {
   "cell_type": "code",
   "execution_count": 8,
   "metadata": {},
   "outputs": [],
   "source": [
    "# makedirs()递归创建文件夹\n",
    "# 格式：os.makedirs(递归路径)\n",
    "# 返回值：无\n",
    "# 递归路径：多个文件夹层层包含的路径就是递归路径\n"
   ]
  },
  {
   "cell_type": "code",
   "execution_count": 9,
   "metadata": {},
   "outputs": [
    {
     "ename": "AttributeError",
     "evalue": "module 'os' has no attribute 'syetem'",
     "output_type": "error",
     "traceback": [
      "\u001b[1;31m---------------------------------------------------------------------------\u001b[0m",
      "\u001b[1;31mAttributeError\u001b[0m                            Traceback (most recent call last)",
      "\u001b[1;32m<ipython-input-9-6347e129d9f0>\u001b[0m in \u001b[0;36m<module>\u001b[1;34m\u001b[0m\n\u001b[0;32m      5\u001b[0m \u001b[1;33m\u001b[0m\u001b[0m\n\u001b[0;32m      6\u001b[0m \u001b[1;33m\u001b[0m\u001b[0m\n\u001b[1;32m----> 7\u001b[1;33m \u001b[0mrst\u001b[0m \u001b[1;33m=\u001b[0m \u001b[0mos\u001b[0m\u001b[1;33m.\u001b[0m\u001b[0msyetem\u001b[0m\u001b[1;33m(\u001b[0m\u001b[1;34m\"ls\"\u001b[0m\u001b[1;33m)\u001b[0m\u001b[1;33m\u001b[0m\u001b[1;33m\u001b[0m\u001b[0m\n\u001b[0m\u001b[0;32m      8\u001b[0m \u001b[0mprint\u001b[0m\u001b[1;33m(\u001b[0m\u001b[0mrst\u001b[0m\u001b[1;33m)\u001b[0m\u001b[1;33m\u001b[0m\u001b[1;33m\u001b[0m\u001b[0m\n",
      "\u001b[1;31mAttributeError\u001b[0m: module 'os' has no attribute 'syetem'"
     ]
    }
   ],
   "source": [
    "# system()运行系统shell命令\n",
    "# 格式：os.system(系统命令)\n",
    "# 返回值：大剋一个shell或者终端界面\n",
    "# ls时列出当前文件和文件夹的系统命令\n",
    "\n",
    "\n",
    "rst = os.syetem(\"ls\")\n",
    "print(rst)\n"
   ]
  },
  {
   "cell_type": "code",
   "execution_count": 10,
   "metadata": {},
   "outputs": [
    {
     "name": "stdout",
     "output_type": "stream",
     "text": [
      "E:\\python\\Scripts\\;E:\\python\\;C:\\Program Files (x86)\\Intel\\iCLS Client\\;C:\\Program Files\\Intel\\iCLS Client\\;C:\\Windows\\system32;C:\\Windows;C:\\Windows\\System32\\Wbem;C:\\Windows\\System32\\WindowsPowerShell\\v1.0\\;C:\\Program Files (x86)\\NVIDIA Corporation\\PhysX\\Common;C:\\Program Files (x86)\\Intel\\Intel(R) Management Engine Components\\DAL;C:\\Program Files\\Intel\\Intel(R) Management Engine Components\\DAL;C:\\Program Files (x86)\\Intel\\Intel(R) Management Engine Components\\IPT;C:\\Program Files\\Intel\\Intel(R) Management Engine Components\\IPT;C:\\Windows\\system32;C:\\Windows;C:\\Windows\\System32\\Wbem;C:\\Windows\\System32\\WindowsPowerShell\\v1.0\\;C:\\Windows\\System32\\OpenSSH\\;E:\\Git\\Git\\cmd;C:\\Users\\wh\\AppData\\Local\\Microsoft\\WindowsApps;;E:\\Pycharm\\PyCharm 2019.1.3\\bin;\n"
     ]
    }
   ],
   "source": [
    "# getenv()获取指定的系统环境变量值\n",
    "# 格式： os.getenv(\"环境变量名\")\n",
    "#\n",
    "\n",
    "rst = os.getenv(\"PATh\")\n",
    "print(rst)"
   ]
  },
  {
   "cell_type": "code",
   "execution_count": 11,
   "metadata": {},
   "outputs": [],
   "source": [
    "# exit()退出当前程序\n",
    "# 格式：exit()\n",
    "# 返回值：无\n"
   ]
  },
  {
   "cell_type": "markdown",
   "metadata": {},
   "source": [
    "# 值部分\n",
    "- os.curdir:当前目录\n",
    "- os.pardir:父亲目录\n",
    "- os.sep:当前系统的路径分隔符\n",
    "- os.linesep:当前系统的路径分隔符\n",
    "- os.name:当前系统名称"
   ]
  },
  {
   "cell_type": "code",
   "execution_count": 14,
   "metadata": {},
   "outputs": [
    {
     "name": "stdout",
     "output_type": "stream",
     "text": [
      "..\n",
      ".\n",
      "nt\n"
     ]
    }
   ],
   "source": [
    "print(os.pardir)\n",
    "print(os.curdir)\n",
    "print(os.name)"
   ]
  },
  {
   "cell_type": "markdown",
   "metadata": {},
   "source": [
    "# os.path模块，跟路径相关的模块\n"
   ]
  },
  {
   "cell_type": "code",
   "execution_count": null,
   "metadata": {},
   "outputs": [],
   "source": [
    "import os.path as op\n"
   ]
  },
  {
   "cell_type": "code",
   "execution_count": null,
   "metadata": {},
   "outputs": [],
   "source": [
    "# abspath() 将路径装换成绝对路径\n",
    "# abselute 绝对\n",
    "# 格式：os.path.abspath('路径')\n",
    "# 返回值：路径的绝对路径形式"
   ]
  },
  {
   "cell_type": "markdown",
   "metadata": {},
   "source": [
    "# shutil模块\n"
   ]
  },
  {
   "cell_type": "code",
   "execution_count": null,
   "metadata": {},
   "outputs": [],
   "source": [
    "# copy(）复制文件\n",
    "# 格式shutil.copy(来源路径，目标路径)\n",
    "\n",
    "\n",
    "\n",
    "# copy2(）复制文件，保留元数据（文件信息）\n",
    "# 格式shutil.copy2(来源路径，目标路径)"
   ]
  },
  {
   "cell_type": "markdown",
   "metadata": {},
   "source": [
    "# random\n",
    "- 随机数\n",
    "- 所有的随机模块都是伪随机\n"
   ]
  },
  {
   "cell_type": "code",
   "execution_count": 15,
   "metadata": {},
   "outputs": [],
   "source": [
    "import random"
   ]
  },
  {
   "cell_type": "code",
   "execution_count": 44,
   "metadata": {},
   "outputs": [
    {
     "name": "stdout",
     "output_type": "stream",
     "text": [
      "0.6622426848231411\n",
      "4\n"
     ]
    }
   ],
   "source": [
    "# random（）获取0-1之间的随机小数\n",
    "# 格式：random.random（）\n",
    "# 返回值：随机0-1之间的小数\n",
    "\n",
    "print(random.random())\n",
    "\n",
    "print(random.randint(0,10))"
   ]
  },
  {
   "cell_type": "code",
   "execution_count": 29,
   "metadata": {},
   "outputs": [
    {
     "name": "stdout",
     "output_type": "stream",
     "text": [
      "3wh\n"
     ]
    }
   ],
   "source": [
    "# choice()随机返回序列中的某个值\n",
    "# 格式random.choice（序列）\n",
    "# 返回值：序列中的某个值\n",
    "\n",
    "l = [str(i)+\"wh\" for i in range(10)]\n",
    "\n",
    "\n",
    "\n",
    "rst = random.choice(l)\n",
    "print(rst)"
   ]
  },
  {
   "cell_type": "code",
   "execution_count": 40,
   "metadata": {},
   "outputs": [
    {
     "name": "stdout",
     "output_type": "stream",
     "text": [
      "[0, 1, 2, 3, 4, 5, 6, 7, 8, 9]\n",
      "[5, 3, 8, 1, 7, 0, 9, 6, 4, 2]\n"
     ]
    }
   ],
   "source": [
    "# shuffle（）随机打乱列表\n",
    "# 格式;random.shuffle(列表)\n",
    "# 返回值：打乱顺寻之后的列表\n",
    "\n",
    "l1 = [i for i in range(10)]\n",
    "print(l1)\n",
    "\n",
    "random.shuffle(l1)\n",
    "print(l1)"
   ]
  },
  {
   "cell_type": "code",
   "execution_count": null,
   "metadata": {},
   "outputs": [],
   "source": [
    "# randint(a,b):返回一个a到b之间的随机整数，包含a、b"
   ]
  },
  {
   "cell_type": "code",
   "execution_count": null,
   "metadata": {},
   "outputs": [],
   "source": []
  },
  {
   "cell_type": "code",
   "execution_count": null,
   "metadata": {},
   "outputs": [],
   "source": []
  }
 ],
 "metadata": {
  "kernelspec": {
   "display_name": "Python 3",
   "language": "python",
   "name": "python3"
  },
  "language_info": {
   "codemirror_mode": {
    "name": "ipython",
    "version": 3
   },
   "file_extension": ".py",
   "mimetype": "text/x-python",
   "name": "python",
   "nbconvert_exporter": "python",
   "pygments_lexer": "ipython3",
   "version": "3.7.3"
  }
 },
 "nbformat": 4,
 "nbformat_minor": 2
}
