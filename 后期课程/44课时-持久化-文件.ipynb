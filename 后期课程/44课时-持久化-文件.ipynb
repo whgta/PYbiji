{
 "cells": [
  {
   "cell_type": "markdown",
   "metadata": {},
   "source": [
    "# 文件\n",
    "- 长久保存信息的一种数据信息合集\n",
    "- 常用操作\n",
    "    - 打开关闭（文件一旦打开，需要关闭操作）\n",
    "    - 读写内容\n",
    "    - 查找\n",
    "# open函数\n",
    "- open函数负责代开文件，带有很多参数\n",
    "- 第一个参数：必须有，文件的路径和名称\n",
    "- mode：表明文件用什么方式打开\n",
    "    - r:只读\n",
    "    - w：写，会覆盖以前的内容\n",
    "    - x：创建方式打开，如文件已经存在，报错\n",
    "    - a：append方式，追加\n",
    "    - b：二进制\n",
    "    - t：文本方式\n",
    "    - +：可读写"
   ]
  },
  {
   "cell_type": "code",
   "execution_count": 10,
   "metadata": {},
   "outputs": [],
   "source": [
    "# 打开文件，用写的方式\n",
    "\n",
    "# \n",
    "f = open(r\"test01.txt\",\"w\")\n",
    "f.close()\n",
    "# 文件打开必须关闭"
   ]
  },
  {
   "cell_type": "markdown",
   "metadata": {},
   "source": [
    "# with语句\n",
    "- with语句使用的技术是一种成为上下管理协议的技术\n",
    "- 自动判断文件的 作用域，自动关闭不再使用的打开的文件"
   ]
  },
  {
   "cell_type": "code",
   "execution_count": 11,
   "metadata": {},
   "outputs": [],
   "source": [
    "# with语句案例\n",
    "\n",
    "with open(r\"test01.txt\",\"r\") as f:\n",
    "    pass\n",
    "    # 下面语句块开始对文件f进行操作\n",
    "    # 本模块不需要用close关闭文件\n",
    "    \n",
    "    "
   ]
  },
  {
   "cell_type": "code",
   "execution_count": 13,
   "metadata": {},
   "outputs": [
    {
     "name": "stdout",
     "output_type": "stream",
     "text": [
      "假若他日相逢\n",
      "\n",
      "我将何以贺你\n",
      "\n",
      "以沉默\n",
      "\n",
      "以眼泪\n"
     ]
    }
   ],
   "source": [
    "with open(r\"test01.txt\",\"r\") as f:\n",
    "    # 按行读取内容\n",
    "    strline = f.readline()\n",
    "    # 此结构保证能够完整读取文件直到结束\n",
    "    while strline:\n",
    "        print(strline)\n",
    "        strline = f.readline()\n",
    "        "
   ]
  },
  {
   "cell_type": "code",
   "execution_count": 14,
   "metadata": {},
   "outputs": [
    {
     "name": "stdout",
     "output_type": "stream",
     "text": [
      "假若他日相逢\n",
      "\n",
      "我将何以贺你\n",
      "\n",
      "以沉默\n",
      "\n",
      "以眼泪\n"
     ]
    }
   ],
   "source": [
    "# list能用打开的文件作为参数，把文件内每一行内容作为一个元素\n",
    "with open(r\"test01.txt\",\"r\") as f:\n",
    "    # 以打开的文件f作为参数，创建列表\n",
    "    l = list(f)\n",
    "    for line in l:\n",
    "        print(line)"
   ]
  },
  {
   "cell_type": "code",
   "execution_count": 17,
   "metadata": {},
   "outputs": [
    {
     "name": "stdout",
     "output_type": "stream",
     "text": [
      "2\n",
      "假若\n"
     ]
    }
   ],
   "source": [
    "# read 是 按字符读取文件内容\n",
    "# 允许输入参数决定读取几个字符，如果没有定制，从当前位置读取到结尾\n",
    "# 否则，从当前位置读取指定个数字符\n",
    "with open(r\"test01.txt\",\"r\") as f:\n",
    "    strChar = f.read()# 括号里可以读取个数\n",
    "    print(len(strChar))\n",
    "    print(strChar)"
   ]
  },
  {
   "cell_type": "markdown",
   "metadata": {},
   "source": [
    "# seek（offset，from）\n",
    "- 移动文件的读取位置，也叫读取指针\n",
    "- from的取值范围：\n",
    "    - 0：从文件头开始偏移\n",
    "    - 1：文件当前\n",
    "    - 2：文件末尾\n",
    "- 移动的单位是字节（byte）\n",
    "- 一个汉字有若干个字节构成\n",
    "- 返回文件只针对 当前位置\n"
   ]
  },
  {
   "cell_type": "code",
   "execution_count": 19,
   "metadata": {},
   "outputs": [
    {
     "name": "stdout",
     "output_type": "stream",
     "text": [
      "日相逢\n",
      "我将何以贺你\n",
      "以沉默\n",
      "以眼泪\n"
     ]
    }
   ],
   "source": [
    "# seek案例\n",
    "# 打开文件后，从第五个处开始读取\n",
    "\n",
    "# 打卡读写指针在0处，即文件的开头\n",
    "with open(r\"test01.txt\",\"r\") as f:\n",
    "    # seek移动单位是字节\n",
    "    f.seek(6,0)\n",
    "    strChar = f.read()\n",
    "    print(strChar)"
   ]
  },
  {
   "cell_type": "code",
   "execution_count": 20,
   "metadata": {},
   "outputs": [
    {
     "name": "stdout",
     "output_type": "stream",
     "text": [
      "假若他\n",
      "日相逢\n",
      "\n",
      "我将\n",
      "何以贺\n",
      "你\n",
      "以\n",
      "沉默\n",
      "\n",
      "以眼泪\n"
     ]
    }
   ],
   "source": [
    "# 打开文件，三个字符一组读出内容，然后显示在屏幕上\n",
    "# 没读一次，休息一秒钟\n",
    "\n",
    "# 让程序暂停，可以使用time下的sleep函数\n",
    "import time\n",
    "\n",
    "with open(r\"test01.txt\",\"r\") as f:\n",
    "    # read参数的单位是字符，可以理解一个汉字一个字符\n",
    "    strChar = f.read(3)\n",
    "    while strChar:\n",
    "        print(strChar)\n",
    "        # sleep 参数单位是秒\n",
    "        time.sleep(1)\n",
    "        strChar = f.read(3)"
   ]
  },
  {
   "cell_type": "code",
   "execution_count": 21,
   "metadata": {},
   "outputs": [
    {
     "name": "stdout",
     "output_type": "stream",
     "text": [
      "假若他\n",
      "6\n",
      "日相逢\n",
      "12\n",
      "\n",
      "我将\n",
      "18\n",
      "何以贺\n",
      "24\n",
      "你\n",
      "以\n",
      "30\n",
      "沉默\n",
      "\n",
      "36\n",
      "以眼泪\n",
      "42\n"
     ]
    }
   ],
   "source": [
    "# tell函数：用来显示文件读取指针的当前位置\n",
    "with open(r\"test01.txt\",\"r\") as f:\n",
    "    strChar = f.read(3)\n",
    "    pos = f.tell()\n",
    "    while strChar:\n",
    "        print(strChar)\n",
    "        print(pos)\n",
    "        strChar = f.read(3)\n",
    "        pos = f.tell()\n",
    "        "
   ]
  },
  {
   "cell_type": "markdown",
   "metadata": {},
   "source": [
    "# 文件的写操作-write\n",
    "- write（str）：把字符床写入文件\n",
    "- writeline（str）：把字符串按行写入文件\n",
    "- 区别：\n",
    "    - write函数参数只能是字符串\n",
    "    - writeline参数可以是字符串，也可以是字符序列\n",
    "    "
   ]
  },
  {
   "cell_type": "code",
   "execution_count": 22,
   "metadata": {},
   "outputs": [],
   "source": [
    "# write案例\n",
    "with open(r\"test01.txt\", \"a\") as f:\n",
    "    f.write(\"渐行渐远渐无书，\\n 水阔鱼沉何处问\")"
   ]
  },
  {
   "cell_type": "markdown",
   "metadata": {},
   "source": [
    "# 持久化-pickle\n",
    "- 序列化：把程序运行中的信息保存在磁盘上\n",
    "- 反序列：序列号的逆过程\n",
    "- pickle：python提供的序列化模块\n",
    "- pickle.dump:序列化\n",
    "- pickle.load:反序列化\n"
   ]
  },
  {
   "cell_type": "code",
   "execution_count": 23,
   "metadata": {},
   "outputs": [],
   "source": [
    "# 序列化案例\n",
    "import pickle\n",
    "age = 18\n",
    "with open(r\"test01.txt\", \"wb\") as f:\n",
    "    pickle.dump(age,f)"
   ]
  },
  {
   "cell_type": "code",
   "execution_count": 24,
   "metadata": {},
   "outputs": [
    {
     "name": "stdout",
     "output_type": "stream",
     "text": [
      "18\n"
     ]
    }
   ],
   "source": [
    "# 反序列化\n",
    "import pickle\n",
    "with open(r\"test01.txt\", \"rb\") as f:\n",
    "    age = pickle.load(f)\n",
    "    print(age)"
   ]
  },
  {
   "cell_type": "markdown",
   "metadata": {},
   "source": [
    "# 持久化-shelve\n",
    "- 持久化工具\n",
    "- 类似字典，对kv对保存数据，存取方式跟字典也类似\n",
    "- open，close"
   ]
  },
  {
   "cell_type": "code",
   "execution_count": 25,
   "metadata": {},
   "outputs": [],
   "source": [
    "# 使用shelve创建文件并使用\n",
    "import shelve\n",
    "# 打开文件\n",
    "# shv相当于一个字典\n",
    "shv = shelve.open(r'shv.db')\n",
    "\n",
    "shv['one'] = 1\n",
    "shv['two'] = 2\n",
    "\n",
    "shv.close()\n",
    "# 不仅仅创建一个shv文件，还有其他格式文件"
   ]
  },
  {
   "cell_type": "markdown",
   "metadata": {},
   "source": [
    " # 这个课时最后10分钟没怎么看，如果用到可以会俩看看"
   ]
  }
 ],
 "metadata": {
  "kernelspec": {
   "display_name": "Python 3",
   "language": "python",
   "name": "python3"
  },
  "language_info": {
   "codemirror_mode": {
    "name": "ipython",
    "version": 3
   },
   "file_extension": ".py",
   "mimetype": "text/x-python",
   "name": "python",
   "nbconvert_exporter": "python",
   "pygments_lexer": "ipython3",
   "version": "3.7.3"
  }
 },
 "nbformat": 4,
 "nbformat_minor": 2
}
